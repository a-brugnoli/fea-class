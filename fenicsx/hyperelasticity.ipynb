{
 "cells": [
  {
   "cell_type": "markdown",
   "id": "908815e6-cdac-4915-bf52-5578f978d2e7",
   "metadata": {},
   "source": [
    "# Hyperelasticity\n",
    "Author: Jørgen S. Dokken and Garth N. Wells\n",
    "\n",
    "This section shows how to solve the hyperelasticity problem for deformation of a beam.\n",
    "\n",
    "We will also show how to create a constant boundary condition for a vector function space.\n",
    "\n",
    "We start by importing DOLFINx and some additional dependencies.\n",
    "Then, we create a slender cantilever consisting of hexahedral elements and create the function space `V` for our unknown."
   ]
  },
  {
   "cell_type": "code",
   "execution_count": 16,
   "id": "optional-cameroon",
   "metadata": {
    "tags": []
   },
   "outputs": [
    {
     "name": "stderr",
     "output_type": "stream",
     "text": [
      "2024-09-16 20:16:40.662 ( 387.134s) [main            ]         graphbuild.cpp:395   INFO| Build local part of mesh dual graph\n",
      "2024-09-16 20:16:40.663 ( 387.134s) [main            ]           ordering.cpp:203   INFO| GPS pseudo-diameter:(28) 499-0\n",
      "2024-09-16 20:16:40.663 ( 387.134s) [main            ]           Topology.cpp:901   INFO| Create topology\n",
      "2024-09-16 20:16:40.663 ( 387.134s) [main            ]                MPI.cpp:166   INFO| Computing communication graph edges (using NBX algorithm). Number of input edges: 1\n",
      "2024-09-16 20:16:40.663 ( 387.134s) [main            ]                MPI.cpp:237   INFO| Finished graph edge discovery using NBX algorithm. Number of discovered edges 1\n",
      "2024-09-16 20:16:40.663 ( 387.135s) [main            ]          partition.cpp:233   INFO| Compute ghost indices\n",
      "2024-09-16 20:16:40.663 ( 387.135s) [main            ]                MPI.cpp:99    INFO| Computing communication graph edges (using PCX algorithm). Number of input edges: 0\n",
      "2024-09-16 20:16:40.663 ( 387.135s) [main            ]                MPI.cpp:156   INFO| Finished graph edge discovery using PCX algorithm. Number of discovered edges 0\n",
      "2024-09-16 20:16:40.663 ( 387.135s) [main            ]                MPI.cpp:166   INFO| Computing communication graph edges (using NBX algorithm). Number of input edges: 0\n",
      "2024-09-16 20:16:40.663 ( 387.135s) [main            ]                MPI.cpp:237   INFO| Finished graph edge discovery using NBX algorithm. Number of discovered edges 0\n",
      "2024-09-16 20:16:40.663 ( 387.135s) [main            ]                MPI.cpp:166   INFO| Computing communication graph edges (using NBX algorithm). Number of input edges: 0\n",
      "2024-09-16 20:16:40.663 ( 387.135s) [main            ]                MPI.cpp:237   INFO| Finished graph edge discovery using NBX algorithm. Number of discovered edges 0\n",
      "2024-09-16 20:16:40.663 ( 387.135s) [main            ]                MPI.cpp:166   INFO| Computing communication graph edges (using NBX algorithm). Number of input edges: 0\n",
      "2024-09-16 20:16:40.663 ( 387.135s) [main            ]                MPI.cpp:237   INFO| Finished graph edge discovery using NBX algorithm. Number of discovered edges 0\n",
      "2024-09-16 20:16:40.663 ( 387.135s) [main            ]                MPI.cpp:166   INFO| Computing communication graph edges (using NBX algorithm). Number of input edges: 0\n",
      "2024-09-16 20:16:40.663 ( 387.135s) [main            ]                MPI.cpp:237   INFO| Finished graph edge discovery using NBX algorithm. Number of discovered edges 0\n",
      "2024-09-16 20:16:40.663 ( 387.135s) [main            ]                MPI.cpp:166   INFO| Computing communication graph edges (using NBX algorithm). Number of input edges: 0\n",
      "2024-09-16 20:16:40.663 ( 387.135s) [main            ]                MPI.cpp:237   INFO| Finished graph edge discovery using NBX algorithm. Number of discovered edges 0\n",
      "2024-09-16 20:16:40.663 ( 387.135s) [main            ]                MPI.cpp:166   INFO| Computing communication graph edges (using NBX algorithm). Number of input edges: 0\n",
      "2024-09-16 20:16:40.663 ( 387.135s) [main            ]                MPI.cpp:237   INFO| Finished graph edge discovery using NBX algorithm. Number of discovered edges 0\n",
      "2024-09-16 20:16:40.663 ( 387.135s) [main            ]                MPI.cpp:166   INFO| Computing communication graph edges (using NBX algorithm). Number of input edges: 0\n",
      "2024-09-16 20:16:40.663 ( 387.135s) [main            ]                MPI.cpp:237   INFO| Finished graph edge discovery using NBX algorithm. Number of discovered edges 0\n",
      "2024-09-16 20:16:40.663 ( 387.135s) [main            ]                  MPI.h:379   INFO| Number of neighbourhood source ranks in distribute_to_postoffice: 0\n",
      "2024-09-16 20:16:40.663 ( 387.135s) [main            ]                MPI.cpp:166   INFO| Computing communication graph edges (using NBX algorithm). Number of input edges: 0\n",
      "2024-09-16 20:16:40.663 ( 387.135s) [main            ]                MPI.cpp:237   INFO| Finished graph edge discovery using NBX algorithm. Number of discovered edges 0\n",
      "2024-09-16 20:16:40.663 ( 387.135s) [main            ]                  MPI.h:519   INFO| Neighbourhood destination ranks from post office in distribute_data (rank, num dests, num dests/mpi_size): 0, 0, 0\n",
      "2024-09-16 20:16:40.666 ( 387.138s) [main            ]topologycomputation.cpp:734   INFO| Computing mesh entities of dimension 1\n",
      "2024-09-16 20:16:40.667 ( 387.138s) [main            ]                MPI.cpp:166   INFO| Computing communication graph edges (using NBX algorithm). Number of input edges: 0\n",
      "2024-09-16 20:16:40.667 ( 387.138s) [main            ]                MPI.cpp:237   INFO| Finished graph edge discovery using NBX algorithm. Number of discovered edges 0\n",
      "2024-09-16 20:16:40.667 ( 387.138s) [main            ]                MPI.cpp:166   INFO| Computing communication graph edges (using NBX algorithm). Number of input edges: 0\n",
      "2024-09-16 20:16:40.667 ( 387.138s) [main            ]                MPI.cpp:237   INFO| Finished graph edge discovery using NBX algorithm. Number of discovered edges 0\n",
      "2024-09-16 20:16:40.667 ( 387.138s) [main            ]topologycomputation.cpp:734   INFO| Computing mesh entities of dimension 2\n",
      "2024-09-16 20:16:40.667 ( 387.138s) [main            ]                MPI.cpp:166   INFO| Computing communication graph edges (using NBX algorithm). Number of input edges: 0\n",
      "2024-09-16 20:16:40.667 ( 387.138s) [main            ]                MPI.cpp:237   INFO| Finished graph edge discovery using NBX algorithm. Number of discovered edges 0\n",
      "2024-09-16 20:16:40.667 ( 387.138s) [main            ]                MPI.cpp:166   INFO| Computing communication graph edges (using NBX algorithm). Number of input edges: 0\n",
      "2024-09-16 20:16:40.667 ( 387.138s) [main            ]                MPI.cpp:237   INFO| Finished graph edge discovery using NBX algorithm. Number of discovered edges 0\n",
      "2024-09-16 20:16:40.667 ( 387.138s) [main            ]                MPI.cpp:166   INFO| Computing communication graph edges (using NBX algorithm). Number of input edges: 0\n",
      "2024-09-16 20:16:40.667 ( 387.138s) [main            ]                MPI.cpp:237   INFO| Finished graph edge discovery using NBX algorithm. Number of discovered edges 0\n",
      "2024-09-16 20:16:40.667 ( 387.138s) [main            ]                MPI.cpp:166   INFO| Computing communication graph edges (using NBX algorithm). Number of input edges: 0\n",
      "2024-09-16 20:16:40.667 ( 387.139s) [main            ]                MPI.cpp:237   INFO| Finished graph edge discovery using NBX algorithm. Number of discovered edges 0\n",
      "2024-09-16 20:16:40.667 ( 387.139s) [main            ]                MPI.cpp:166   INFO| Computing communication graph edges (using NBX algorithm). Number of input edges: 0\n",
      "2024-09-16 20:16:40.667 ( 387.139s) [main            ]                MPI.cpp:237   INFO| Finished graph edge discovery using NBX algorithm. Number of discovered edges 0\n",
      "2024-09-16 20:16:40.667 ( 387.139s) [main            ]                MPI.cpp:166   INFO| Computing communication graph edges (using NBX algorithm). Number of input edges: 0\n",
      "2024-09-16 20:16:40.667 ( 387.139s) [main            ]                MPI.cpp:237   INFO| Finished graph edge discovery using NBX algorithm. Number of discovered edges 0\n",
      "2024-09-16 20:16:40.667 ( 387.139s) [main            ]                MPI.cpp:166   INFO| Computing communication graph edges (using NBX algorithm). Number of input edges: 0\n",
      "2024-09-16 20:16:40.667 ( 387.139s) [main            ]                MPI.cpp:237   INFO| Finished graph edge discovery using NBX algorithm. Number of discovered edges 0\n"
     ]
    }
   ],
   "source": [
    "from dolfinx import log, default_scalar_type\n",
    "from dolfinx.fem.petsc import NonlinearProblem\n",
    "from dolfinx.nls.petsc import NewtonSolver\n",
    "import pyvista\n",
    "import numpy as np\n",
    "import ufl\n",
    "\n",
    "from mpi4py import MPI\n",
    "from dolfinx import fem, mesh, plot\n",
    "L = 20.0\n",
    "domain = mesh.create_box(MPI.COMM_WORLD, [[0.0, 0.0, 0.0], [L, 1, 1]], [20, 5, 5], mesh.CellType.hexahedron)\n",
    "V = fem.functionspace(domain, (\"Lagrange\", 2, (domain.geometry.dim, )))"
   ]
  },
  {
   "cell_type": "markdown",
   "id": "streaming-neutral",
   "metadata": {},
   "source": [
    "We create two python functions for determining the facets to apply boundary conditions to"
   ]
  },
  {
   "cell_type": "code",
   "execution_count": 17,
   "id": "major-factor",
   "metadata": {},
   "outputs": [
    {
     "name": "stderr",
     "output_type": "stream",
     "text": [
      "2024-09-16 20:16:40.690 ( 387.162s) [main            ]topologycomputation.cpp:776   INFO| Requesting connectivity 2 - 3\n",
      "2024-09-16 20:16:40.690 ( 387.162s) [main            ]topologycomputation.cpp:641   INFO| Computing mesh connectivity 2 - 3 from transpose.\n",
      "2024-09-16 20:16:40.691 ( 387.162s) [main            ]topologycomputation.cpp:776   INFO| Requesting connectivity 2 - 0\n",
      "2024-09-16 20:16:40.691 ( 387.162s) [main            ]topologycomputation.cpp:776   INFO| Requesting connectivity 2 - 2\n",
      "2024-09-16 20:16:40.691 ( 387.162s) [main            ]topologycomputation.cpp:776   INFO| Requesting connectivity 0 - 3\n",
      "2024-09-16 20:16:40.691 ( 387.162s) [main            ]topologycomputation.cpp:641   INFO| Computing mesh connectivity 0 - 3 from transpose.\n",
      "2024-09-16 20:16:40.691 ( 387.162s) [main            ]topologycomputation.cpp:776   INFO| Requesting connectivity 3 - 0\n",
      "2024-09-16 20:16:40.691 ( 387.162s) [main            ]topologycomputation.cpp:776   INFO| Requesting connectivity 2 - 3\n",
      "2024-09-16 20:16:40.691 ( 387.162s) [main            ]topologycomputation.cpp:776   INFO| Requesting connectivity 2 - 0\n",
      "2024-09-16 20:16:40.691 ( 387.162s) [main            ]topologycomputation.cpp:776   INFO| Requesting connectivity 2 - 2\n",
      "2024-09-16 20:16:40.691 ( 387.162s) [main            ]topologycomputation.cpp:776   INFO| Requesting connectivity 0 - 3\n",
      "2024-09-16 20:16:40.691 ( 387.162s) [main            ]topologycomputation.cpp:776   INFO| Requesting connectivity 3 - 0\n"
     ]
    }
   ],
   "source": [
    "def left(x):\n",
    "    return np.isclose(x[0], 0)\n",
    "\n",
    "\n",
    "def right(x):\n",
    "    return np.isclose(x[0], L)\n",
    "\n",
    "\n",
    "fdim = domain.topology.dim - 1\n",
    "left_facets = mesh.locate_entities_boundary(domain, fdim, left)\n",
    "right_facets = mesh.locate_entities_boundary(domain, fdim, right)"
   ]
  },
  {
   "cell_type": "markdown",
   "id": "figured-world",
   "metadata": {},
   "source": [
    "Next, we create a  marker based on these two functions"
   ]
  },
  {
   "cell_type": "code",
   "execution_count": 18,
   "id": "dated-india",
   "metadata": {},
   "outputs": [],
   "source": [
    "# Concatenate and sort the arrays based on facet indices. Left facets marked with 1, right facets with two\n",
    "marked_facets = np.hstack([left_facets, right_facets])\n",
    "marked_values = np.hstack([np.full_like(left_facets, 1), np.full_like(right_facets, 2)])\n",
    "sorted_facets = np.argsort(marked_facets)\n",
    "facet_tag = mesh.meshtags(domain, fdim, marked_facets[sorted_facets], marked_values[sorted_facets])"
   ]
  },
  {
   "cell_type": "markdown",
   "id": "renewable-glossary",
   "metadata": {},
   "source": [
    "We then create a function for supplying the boundary condition on the left side, which is fixed."
   ]
  },
  {
   "cell_type": "code",
   "execution_count": 19,
   "id": "confidential-french",
   "metadata": {},
   "outputs": [],
   "source": [
    "u_bc = np.array((0,) * domain.geometry.dim, dtype=default_scalar_type)"
   ]
  },
  {
   "cell_type": "markdown",
   "id": "musical-documentation",
   "metadata": {},
   "source": [
    "To apply the boundary condition, we identity the dofs located on the facets marked by the `MeshTag`."
   ]
  },
  {
   "cell_type": "code",
   "execution_count": 20,
   "id": "written-monster",
   "metadata": {},
   "outputs": [
    {
     "name": "stderr",
     "output_type": "stream",
     "text": [
      "2024-09-16 20:16:40.734 ( 387.205s) [main            ]topologycomputation.cpp:776   INFO| Requesting connectivity 2 - 3\n"
     ]
    }
   ],
   "source": [
    "left_dofs = fem.locate_dofs_topological(V, facet_tag.dim, facet_tag.find(1))\n",
    "bcs = [fem.dirichletbc(u_bc, left_dofs, V)]"
   ]
  },
  {
   "cell_type": "markdown",
   "id": "indoor-chester",
   "metadata": {},
   "source": [
    "Next, we define the body force on the reference configuration (`B`), and nominal (first Piola-Kirchhoff) traction (`T`)."
   ]
  },
  {
   "cell_type": "code",
   "execution_count": 21,
   "id": "korean-carol",
   "metadata": {},
   "outputs": [],
   "source": [
    "B = fem.Constant(domain, default_scalar_type((0, 0, 0)))\n",
    "T = fem.Constant(domain, default_scalar_type((0, 0, 0)))"
   ]
  },
  {
   "cell_type": "markdown",
   "id": "blond-dynamics",
   "metadata": {},
   "source": [
    "Define the test and solution functions on the space $V$"
   ]
  },
  {
   "cell_type": "code",
   "execution_count": 22,
   "id": "vocational-experiment",
   "metadata": {},
   "outputs": [],
   "source": [
    "v = ufl.TestFunction(V)\n",
    "u = fem.Function(V)"
   ]
  },
  {
   "cell_type": "markdown",
   "id": "bright-belle",
   "metadata": {},
   "source": [
    "Define kinematic quantities used in the problem"
   ]
  },
  {
   "cell_type": "code",
   "execution_count": 23,
   "id": "vertical-original",
   "metadata": {},
   "outputs": [],
   "source": [
    "# Spatial dimension\n",
    "d = len(u)\n",
    "\n",
    "# Identity tensor\n",
    "I = ufl.variable(ufl.Identity(d))\n",
    "\n",
    "# Deformation gradient\n",
    "F = ufl.variable(I + ufl.grad(u))\n",
    "\n",
    "# Right Cauchy-Green tensor\n",
    "C = ufl.variable(F.T * F)\n",
    "\n",
    "# Invariants of deformation tensors\n",
    "Ic = ufl.variable(ufl.tr(C))\n",
    "J = ufl.variable(ufl.det(F))"
   ]
  },
  {
   "cell_type": "markdown",
   "id": "respiratory-compromise",
   "metadata": {},
   "source": [
    "Define the elasticity model via a stored strain energy density function $\\psi$, and create the expression for the first Piola-Kirchhoff stress:"
   ]
  },
  {
   "cell_type": "code",
   "execution_count": 24,
   "id": "incorrect-hello",
   "metadata": {},
   "outputs": [],
   "source": [
    "# Elasticity parameters\n",
    "E = default_scalar_type(1.0e4)\n",
    "nu = default_scalar_type(0.3)\n",
    "mu = fem.Constant(domain, E / (2 * (1 + nu)))\n",
    "lmbda = fem.Constant(domain, E * nu / ((1 + nu) * (1 - 2 * nu)))\n",
    "# Stored strain energy density (compressible neo-Hookean model)\n",
    "psi = (mu / 2) * (Ic - 3) - mu * ufl.ln(J) + (lmbda / 2) * (ufl.ln(J))**2\n",
    "# Stress\n",
    "# Hyper-elasticity\n",
    "P = ufl.diff(psi, F)"
   ]
  },
  {
   "cell_type": "markdown",
   "id": "grateful-battlefield",
   "metadata": {},
   "source": [
    "```{admonition} Comparison to linear elasticity\n",
    "To illustrate the difference between linear and hyperelasticity, the following lines can be uncommented to solve the linear elasticity problem.\n",
    "```"
   ]
  },
  {
   "cell_type": "code",
   "execution_count": 25,
   "id": "imperial-jurisdiction",
   "metadata": {},
   "outputs": [],
   "source": [
    "# P = 2.0 * mu * ufl.sym(ufl.grad(u)) + lmbda * ufl.tr(ufl.sym(ufl.grad(u))) * I"
   ]
  },
  {
   "cell_type": "markdown",
   "id": "alleged-genesis",
   "metadata": {},
   "source": [
    "Define the variational form with traction integral over all facets with value 2. We set the quadrature degree for the integrals to 4."
   ]
  },
  {
   "cell_type": "code",
   "execution_count": 26,
   "id": "recognized-conclusion",
   "metadata": {},
   "outputs": [],
   "source": [
    "metadata = {\"quadrature_degree\": 4}\n",
    "ds = ufl.Measure('ds', domain=domain, subdomain_data=facet_tag, metadata=metadata)\n",
    "dx = ufl.Measure(\"dx\", domain=domain, metadata=metadata)\n",
    "# Define form F (we want to find u such that F(u) = 0)\n",
    "F = ufl.inner(ufl.grad(v), P) * dx - ufl.inner(v, B) * dx - ufl.inner(v, T) * ds(2)"
   ]
  },
  {
   "cell_type": "markdown",
   "id": "historic-sherman",
   "metadata": {},
   "source": [
    "As the varitional form is non-linear and written on residual form, we use the non-linear problem class from DOLFINx to set up required structures to use a Newton solver."
   ]
  },
  {
   "cell_type": "code",
   "execution_count": 27,
   "id": "threatened-devices",
   "metadata": {},
   "outputs": [
    {
     "name": "stderr",
     "output_type": "stream",
     "text": [
      "2024-09-16 20:16:40.852 ( 387.324s) [main            ]topologycomputation.cpp:776   INFO| Requesting connectivity 2 - 3\n",
      "2024-09-16 20:16:40.852 ( 387.324s) [main            ]topologycomputation.cpp:776   INFO| Requesting connectivity 3 - 2\n",
      "2024-09-16 20:16:40.852 ( 387.324s) [main            ]topologycomputation.cpp:776   INFO| Requesting connectivity 2 - 3\n",
      "2024-09-16 20:16:40.852 ( 387.324s) [main            ]topologycomputation.cpp:776   INFO| Requesting connectivity 3 - 2\n",
      "2024-09-16 20:16:40.855 ( 387.326s) [main            ]topologycomputation.cpp:776   INFO| Requesting connectivity 2 - 3\n",
      "2024-09-16 20:16:40.855 ( 387.326s) [main            ]topologycomputation.cpp:776   INFO| Requesting connectivity 3 - 2\n"
     ]
    }
   ],
   "source": [
    "problem = NonlinearProblem(F, u, bcs)"
   ]
  },
  {
   "cell_type": "markdown",
   "id": "qualified-phrase",
   "metadata": {},
   "source": [
    "and then create and customize the Newton solver"
   ]
  },
  {
   "cell_type": "code",
   "execution_count": 28,
   "id": "special-globe",
   "metadata": {},
   "outputs": [
    {
     "name": "stderr",
     "output_type": "stream",
     "text": [
      "2024-09-16 20:16:40.869 ( 387.341s) [main            ]    SparsityPattern.cpp:384   INFO| Column ghost size increased from 0 to 0\n"
     ]
    }
   ],
   "source": [
    "solver = NewtonSolver(domain.comm, problem)\n",
    "\n",
    "# Set Newton solver options\n",
    "solver.atol = 1e-8\n",
    "solver.rtol = 1e-8\n",
    "solver.convergence_criterion = \"incremental\"\n"
   ]
  },
  {
   "cell_type": "markdown",
   "id": "marked-hungary",
   "metadata": {},
   "source": [
    "We create a function to plot the solution at each time step."
   ]
  },
  {
   "cell_type": "code",
   "execution_count": 29,
   "id": "noble-perception",
   "metadata": {},
   "outputs": [
    {
     "ename": "NameError",
     "evalue": "name '__file__' is not defined",
     "output_type": "error",
     "traceback": [
      "\u001b[0;31m---------------------------------------------------------------------------\u001b[0m",
      "\u001b[0;31mNameError\u001b[0m                                 Traceback (most recent call last)",
      "Cell \u001b[0;32mIn[29], line 2\u001b[0m\n\u001b[1;32m      1\u001b[0m \u001b[38;5;28;01mfrom\u001b[39;00m \u001b[38;5;21;01mpathlib\u001b[39;00m \u001b[38;5;28;01mimport\u001b[39;00m Path\n\u001b[0;32m----> 2\u001b[0m current_directory \u001b[38;5;241m=\u001b[39m Path(\u001b[38;5;18m__file__\u001b[39m)\u001b[38;5;241m.\u001b[39mresolve()\u001b[38;5;241m.\u001b[39mparent\n\u001b[1;32m      3\u001b[0m results_folder \u001b[38;5;241m=\u001b[39m Path(\u001b[38;5;28mstr\u001b[39m(current_directory) \u001b[38;5;241m+\u001b[39m \u001b[38;5;124m\"\u001b[39m\u001b[38;5;124m/results_hyperelasticity\u001b[39m\u001b[38;5;124m\"\u001b[39m)\n\u001b[1;32m      4\u001b[0m results_folder\u001b[38;5;241m.\u001b[39mmkdir(exist_ok\u001b[38;5;241m=\u001b[39m\u001b[38;5;28;01mTrue\u001b[39;00m, parents\u001b[38;5;241m=\u001b[39m\u001b[38;5;28;01mTrue\u001b[39;00m)\n",
      "\u001b[0;31mNameError\u001b[0m: name '__file__' is not defined"
     ]
    }
   ],
   "source": [
    "from pathlib import Path\n",
    "current_directory = Path(__file__).resolve().parent\n",
    "results_folder = Path(str(current_directory) + \"/results_hyperelasticity\")\n",
    "results_folder.mkdir(exist_ok=True, parents=True)\n",
    "\n",
    "pyvista.start_xvfb()\n",
    "plotter = pyvista.Plotter()\n",
    "plotter.open_gif(results_folder + \"/displacement.gif\", fps=3)\n",
    "\n",
    "topology, cells, geometry = plot.vtk_mesh(u.function_space)\n",
    "function_grid = pyvista.UnstructuredGrid(topology, cells, geometry)\n",
    "\n",
    "values = np.zeros((geometry.shape[0], 3))\n",
    "values[:, :len(u)] = u.x.array.reshape(geometry.shape[0], len(u))\n",
    "function_grid[\"u\"] = values\n",
    "function_grid.set_active_vectors(\"u\")\n",
    "\n",
    "# Warp mesh by deformation\n",
    "warped = function_grid.warp_by_vector(\"u\", factor=1)\n",
    "warped.set_active_vectors(\"u\")\n",
    "\n",
    "# Add mesh to plotter and visualize\n",
    "actor = plotter.add_mesh(warped, show_edges=True, lighting=False, clim=[0, 10])\n",
    "\n",
    "# Compute magnitude of displacement to visualize in GIF\n",
    "Vs = fem.functionspace(domain, (\"Lagrange\", 2))\n",
    "magnitude = fem.Function(Vs)\n",
    "us = fem.Expression(ufl.sqrt(sum([u[i]**2 for i in range(len(u))])), Vs.element.interpolation_points())\n",
    "magnitude.interpolate(us)\n",
    "warped[\"mag\"] = magnitude.x.array"
   ]
  },
  {
   "cell_type": "markdown",
   "id": "nasty-entertainment",
   "metadata": {},
   "source": [
    "Finally, we solve the problem over several time steps, updating the z-component of the traction"
   ]
  },
  {
   "cell_type": "code",
   "execution_count": null,
   "id": "vanilla-referral",
   "metadata": {},
   "outputs": [
    {
     "name": "stderr",
     "output_type": "stream",
     "text": [
      "2024-09-16 20:10:17.350 (   3.821s) [main            ]              petsc.cpp:698   INFO| PETSc Krylov solver starting to solve system.\n",
      "2024-09-16 20:10:17.784 (   4.255s) [main            ]              petsc.cpp:698   INFO| PETSc Krylov solver starting to solve system.\n",
      "2024-09-16 20:10:18.017 (   4.488s) [main            ]       NewtonSolver.cpp:36    INFO| Newton iteration 2: r (abs) = 22.2455 (tol = 1e-08) r (rel) = 0.134278(tol = 1e-08)\n",
      "2024-09-16 20:10:18.144 (   4.616s) [main            ]              petsc.cpp:698   INFO| PETSc Krylov solver starting to solve system.\n",
      "2024-09-16 20:10:18.382 (   4.853s) [main            ]       NewtonSolver.cpp:36    INFO| Newton iteration 3: r (abs) = 2.43261 (tol = 1e-08) r (rel) = 0.0146837(tol = 1e-08)\n",
      "2024-09-16 20:10:18.505 (   4.977s) [main            ]              petsc.cpp:698   INFO| PETSc Krylov solver starting to solve system.\n",
      "2024-09-16 20:10:18.740 (   5.212s) [main            ]       NewtonSolver.cpp:36    INFO| Newton iteration 4: r (abs) = 4.43158 (tol = 1e-08) r (rel) = 0.0267498(tol = 1e-08)\n",
      "2024-09-16 20:10:18.865 (   5.337s) [main            ]              petsc.cpp:698   INFO| PETSc Krylov solver starting to solve system.\n",
      "2024-09-16 20:10:19.129 (   5.600s) [main            ]       NewtonSolver.cpp:36    INFO| Newton iteration 5: r (abs) = 0.144189 (tol = 1e-08) r (rel) = 0.000870353(tol = 1e-08)\n",
      "2024-09-16 20:10:19.254 (   5.725s) [main            ]              petsc.cpp:698   INFO| PETSc Krylov solver starting to solve system.\n",
      "2024-09-16 20:10:19.603 (   6.074s) [main            ]       NewtonSolver.cpp:36    INFO| Newton iteration 6: r (abs) = 0.021424 (tol = 1e-08) r (rel) = 0.000129319(tol = 1e-08)\n",
      "2024-09-16 20:10:19.742 (   6.213s) [main            ]              petsc.cpp:698   INFO| PETSc Krylov solver starting to solve system.\n",
      "2024-09-16 20:10:19.982 (   6.454s) [main            ]       NewtonSolver.cpp:36    INFO| Newton iteration 7: r (abs) = 4.80066e-06 (tol = 1e-08) r (rel) = 2.89777e-08(tol = 1e-08)\n",
      "2024-09-16 20:10:20.108 (   6.580s) [main            ]              petsc.cpp:698   INFO| PETSc Krylov solver starting to solve system.\n",
      "2024-09-16 20:10:20.379 (   6.851s) [main            ]       NewtonSolver.cpp:36    INFO| Newton iteration 8: r (abs) = 2.60719e-11 (tol = 1e-08) r (rel) = 1.57375e-13(tol = 1e-08)\n",
      "2024-09-16 20:10:20.379 (   6.851s) [main            ]       NewtonSolver.cpp:255   INFO| Newton solver finished in 8 iterations and 8 linear solver iterations.\n"
     ]
    },
    {
     "name": "stdout",
     "output_type": "stream",
     "text": [
      "Time step 1, Number of iterations 8, Load [ 0.   0.  -1.5]\n"
     ]
    },
    {
     "name": "stderr",
     "output_type": "stream",
     "text": [
      "2024-09-16 20:10:20.628 (   7.099s) [main            ]              petsc.cpp:698   INFO| PETSc Krylov solver starting to solve system.\n",
      "2024-09-16 20:10:21.005 (   7.477s) [main            ]              petsc.cpp:698   INFO| PETSc Krylov solver starting to solve system.\n",
      "2024-09-16 20:10:21.248 (   7.720s) [main            ]       NewtonSolver.cpp:36    INFO| Newton iteration 2: r (abs) = 17.3254 (tol = 1e-08) r (rel) = 0.117842(tol = 1e-08)\n",
      "2024-09-16 20:10:21.375 (   7.847s) [main            ]              petsc.cpp:698   INFO| PETSc Krylov solver starting to solve system.\n",
      "2024-09-16 20:10:21.608 (   8.080s) [main            ]       NewtonSolver.cpp:36    INFO| Newton iteration 3: r (abs) = 5.14882 (tol = 1e-08) r (rel) = 0.0350207(tol = 1e-08)\n",
      "2024-09-16 20:10:21.736 (   8.208s) [main            ]              petsc.cpp:698   INFO| PETSc Krylov solver starting to solve system.\n",
      "2024-09-16 20:10:21.989 (   8.460s) [main            ]       NewtonSolver.cpp:36    INFO| Newton iteration 4: r (abs) = 7.24003 (tol = 1e-08) r (rel) = 0.0492445(tol = 1e-08)\n",
      "2024-09-16 20:10:22.118 (   8.590s) [main            ]              petsc.cpp:698   INFO| PETSc Krylov solver starting to solve system.\n",
      "2024-09-16 20:10:22.399 (   8.870s) [main            ]       NewtonSolver.cpp:36    INFO| Newton iteration 5: r (abs) = 0.777889 (tol = 1e-08) r (rel) = 0.00529096(tol = 1e-08)\n",
      "2024-09-16 20:10:22.529 (   9.001s) [main            ]              petsc.cpp:698   INFO| PETSc Krylov solver starting to solve system.\n",
      "2024-09-16 20:10:22.796 (   9.268s) [main            ]       NewtonSolver.cpp:36    INFO| Newton iteration 6: r (abs) = 1.25525 (tol = 1e-08) r (rel) = 0.00853785(tol = 1e-08)\n",
      "2024-09-16 20:10:22.926 (   9.398s) [main            ]              petsc.cpp:698   INFO| PETSc Krylov solver starting to solve system.\n",
      "2024-09-16 20:10:23.192 (   9.663s) [main            ]       NewtonSolver.cpp:36    INFO| Newton iteration 7: r (abs) = 0.00849512 (tol = 1e-08) r (rel) = 5.77813e-05(tol = 1e-08)\n",
      "2024-09-16 20:10:23.323 (   9.795s) [main            ]              petsc.cpp:698   INFO| PETSc Krylov solver starting to solve system.\n",
      "2024-09-16 20:10:23.607 (  10.078s) [main            ]       NewtonSolver.cpp:36    INFO| Newton iteration 8: r (abs) = 0.000192107 (tol = 1e-08) r (rel) = 1.30665e-06(tol = 1e-08)\n",
      "2024-09-16 20:10:23.736 (  10.208s) [main            ]              petsc.cpp:698   INFO| PETSc Krylov solver starting to solve system.\n",
      "2024-09-16 20:10:23.998 (  10.470s) [main            ]       NewtonSolver.cpp:36    INFO| Newton iteration 9: r (abs) = 1.70776e-10 (tol = 1e-08) r (rel) = 1.16157e-12(tol = 1e-08)\n",
      "2024-09-16 20:10:23.998 (  10.470s) [main            ]       NewtonSolver.cpp:255   INFO| Newton solver finished in 9 iterations and 9 linear solver iterations.\n",
      "2024-09-16 20:10:24.176 (  10.648s) [main            ]              petsc.cpp:698   INFO| PETSc Krylov solver starting to solve system.\n"
     ]
    },
    {
     "name": "stdout",
     "output_type": "stream",
     "text": [
      "Time step 2, Number of iterations 9, Load [ 0.  0. -3.]\n"
     ]
    },
    {
     "name": "stderr",
     "output_type": "stream",
     "text": [
      "2024-09-16 20:10:24.624 (  11.095s) [main            ]              petsc.cpp:698   INFO| PETSc Krylov solver starting to solve system.\n",
      "2024-09-16 20:10:24.898 (  11.369s) [main            ]       NewtonSolver.cpp:36    INFO| Newton iteration 2: r (abs) = 10.0011 (tol = 1e-08) r (rel) = 0.0887471(tol = 1e-08)\n",
      "2024-09-16 20:10:25.030 (  11.502s) [main            ]              petsc.cpp:698   INFO| PETSc Krylov solver starting to solve system.\n",
      "2024-09-16 20:10:25.276 (  11.747s) [main            ]       NewtonSolver.cpp:36    INFO| Newton iteration 3: r (abs) = 5.33026 (tol = 1e-08) r (rel) = 0.0472992(tol = 1e-08)\n",
      "2024-09-16 20:10:25.408 (  11.880s) [main            ]              petsc.cpp:698   INFO| PETSc Krylov solver starting to solve system.\n",
      "2024-09-16 20:10:25.676 (  12.148s) [main            ]       NewtonSolver.cpp:36    INFO| Newton iteration 4: r (abs) = 11.9901 (tol = 1e-08) r (rel) = 0.106397(tol = 1e-08)\n",
      "2024-09-16 20:10:25.809 (  12.280s) [main            ]              petsc.cpp:698   INFO| PETSc Krylov solver starting to solve system.\n",
      "2024-09-16 20:10:26.090 (  12.561s) [main            ]       NewtonSolver.cpp:36    INFO| Newton iteration 5: r (abs) = 2.29702 (tol = 1e-08) r (rel) = 0.0203831(tol = 1e-08)\n",
      "2024-09-16 20:10:26.223 (  12.694s) [main            ]              petsc.cpp:698   INFO| PETSc Krylov solver starting to solve system.\n",
      "2024-09-16 20:10:26.514 (  12.985s) [main            ]       NewtonSolver.cpp:36    INFO| Newton iteration 6: r (abs) = 3.90234 (tol = 1e-08) r (rel) = 0.0346282(tol = 1e-08)\n",
      "2024-09-16 20:10:26.648 (  13.119s) [main            ]              petsc.cpp:698   INFO| PETSc Krylov solver starting to solve system.\n",
      "2024-09-16 20:10:26.973 (  13.445s) [main            ]       NewtonSolver.cpp:36    INFO| Newton iteration 7: r (abs) = 0.236535 (tol = 1e-08) r (rel) = 0.00209895(tol = 1e-08)\n",
      "2024-09-16 20:10:27.116 (  13.588s) [main            ]              petsc.cpp:698   INFO| PETSc Krylov solver starting to solve system.\n",
      "2024-09-16 20:10:27.411 (  13.883s) [main            ]       NewtonSolver.cpp:36    INFO| Newton iteration 8: r (abs) = 0.0427142 (tol = 1e-08) r (rel) = 0.000379034(tol = 1e-08)\n",
      "2024-09-16 20:10:27.548 (  14.019s) [main            ]              petsc.cpp:698   INFO| PETSc Krylov solver starting to solve system.\n",
      "2024-09-16 20:10:27.885 (  14.357s) [main            ]       NewtonSolver.cpp:36    INFO| Newton iteration 9: r (abs) = 2.87798e-05 (tol = 1e-08) r (rel) = 2.55384e-07(tol = 1e-08)\n",
      "2024-09-16 20:10:28.020 (  14.491s) [main            ]              petsc.cpp:698   INFO| PETSc Krylov solver starting to solve system.\n"
     ]
    },
    {
     "name": "stdout",
     "output_type": "stream",
     "text": [
      "Time step 3, Number of iterations 10, Load [ 0.   0.  -4.5]\n"
     ]
    },
    {
     "name": "stderr",
     "output_type": "stream",
     "text": [
      "2024-09-16 20:10:28.326 (  14.798s) [main            ]       NewtonSolver.cpp:36    INFO| Newton iteration 10: r (abs) = 6.08986e-10 (tol = 1e-08) r (rel) = 5.40397e-12(tol = 1e-08)\n",
      "2024-09-16 20:10:28.326 (  14.798s) [main            ]       NewtonSolver.cpp:255   INFO| Newton solver finished in 10 iterations and 10 linear solver iterations.\n",
      "2024-09-16 20:10:28.510 (  14.981s) [main            ]              petsc.cpp:698   INFO| PETSc Krylov solver starting to solve system.\n",
      "2024-09-16 20:10:28.942 (  15.413s) [main            ]              petsc.cpp:698   INFO| PETSc Krylov solver starting to solve system.\n",
      "2024-09-16 20:10:29.213 (  15.685s) [main            ]       NewtonSolver.cpp:36    INFO| Newton iteration 2: r (abs) = 5.50693 (tol = 1e-08) r (rel) = 0.0653918(tol = 1e-08)\n",
      "2024-09-16 20:10:29.349 (  15.820s) [main            ]              petsc.cpp:698   INFO| PETSc Krylov solver starting to solve system.\n",
      "2024-09-16 20:10:29.626 (  16.098s) [main            ]       NewtonSolver.cpp:36    INFO| Newton iteration 3: r (abs) = 26.2489 (tol = 1e-08) r (rel) = 0.311692(tol = 1e-08)\n",
      "2024-09-16 20:10:29.761 (  16.233s) [main            ]              petsc.cpp:698   INFO| PETSc Krylov solver starting to solve system.\n",
      "2024-09-16 20:10:30.049 (  16.521s) [main            ]       NewtonSolver.cpp:36    INFO| Newton iteration 4: r (abs) = 2.30927 (tol = 1e-08) r (rel) = 0.0274213(tol = 1e-08)\n",
      "2024-09-16 20:10:30.185 (  16.657s) [main            ]              petsc.cpp:698   INFO| PETSc Krylov solver starting to solve system.\n",
      "2024-09-16 20:10:30.465 (  16.936s) [main            ]       NewtonSolver.cpp:36    INFO| Newton iteration 5: r (abs) = 14.0562 (tol = 1e-08) r (rel) = 0.16691(tol = 1e-08)\n",
      "2024-09-16 20:10:30.601 (  17.072s) [main            ]              petsc.cpp:698   INFO| PETSc Krylov solver starting to solve system.\n",
      "2024-09-16 20:10:30.934 (  17.405s) [main            ]       NewtonSolver.cpp:36    INFO| Newton iteration 6: r (abs) = 0.222774 (tol = 1e-08) r (rel) = 0.00264532(tol = 1e-08)\n",
      "2024-09-16 20:10:31.070 (  17.541s) [main            ]              petsc.cpp:698   INFO| PETSc Krylov solver starting to solve system.\n",
      "2024-09-16 20:10:31.393 (  17.864s) [main            ]       NewtonSolver.cpp:36    INFO| Newton iteration 7: r (abs) = 0.286671 (tol = 1e-08) r (rel) = 0.00340406(tol = 1e-08)\n",
      "2024-09-16 20:10:31.554 (  18.026s) [main            ]              petsc.cpp:698   INFO| PETSc Krylov solver starting to solve system.\n",
      "2024-09-16 20:10:31.907 (  18.379s) [main            ]       NewtonSolver.cpp:36    INFO| Newton iteration 8: r (abs) = 0.000321869 (tol = 1e-08) r (rel) = 3.82203e-06(tol = 1e-08)\n",
      "2024-09-16 20:10:32.047 (  18.518s) [main            ]              petsc.cpp:698   INFO| PETSc Krylov solver starting to solve system.\n"
     ]
    },
    {
     "name": "stdout",
     "output_type": "stream",
     "text": [
      "Time step 4, Number of iterations 9, Load [ 0.  0. -6.]\n"
     ]
    },
    {
     "name": "stderr",
     "output_type": "stream",
     "text": [
      "2024-09-16 20:10:32.337 (  18.808s) [main            ]       NewtonSolver.cpp:36    INFO| Newton iteration 9: r (abs) = 2.63796e-07 (tol = 1e-08) r (rel) = 3.13244e-09(tol = 1e-08)\n",
      "2024-09-16 20:10:32.337 (  18.808s) [main            ]       NewtonSolver.cpp:255   INFO| Newton solver finished in 9 iterations and 9 linear solver iterations.\n",
      "2024-09-16 20:10:32.527 (  18.998s) [main            ]              petsc.cpp:698   INFO| PETSc Krylov solver starting to solve system.\n",
      "2024-09-16 20:10:32.975 (  19.447s) [main            ]              petsc.cpp:698   INFO| PETSc Krylov solver starting to solve system.\n",
      "2024-09-16 20:10:33.257 (  19.728s) [main            ]       NewtonSolver.cpp:36    INFO| Newton iteration 2: r (abs) = 3.19462 (tol = 1e-08) r (rel) = 0.0496479(tol = 1e-08)\n",
      "2024-09-16 20:10:33.393 (  19.865s) [main            ]              petsc.cpp:698   INFO| PETSc Krylov solver starting to solve system.\n",
      "2024-09-16 20:10:33.674 (  20.146s) [main            ]       NewtonSolver.cpp:36    INFO| Newton iteration 3: r (abs) = 7.71429 (tol = 1e-08) r (rel) = 0.119888(tol = 1e-08)\n",
      "2024-09-16 20:10:33.812 (  20.283s) [main            ]              petsc.cpp:698   INFO| PETSc Krylov solver starting to solve system.\n",
      "2024-09-16 20:10:34.144 (  20.615s) [main            ]       NewtonSolver.cpp:36    INFO| Newton iteration 4: r (abs) = 0.850873 (tol = 1e-08) r (rel) = 0.0132235(tol = 1e-08)\n",
      "2024-09-16 20:10:34.281 (  20.753s) [main            ]              petsc.cpp:698   INFO| PETSc Krylov solver starting to solve system.\n",
      "2024-09-16 20:10:34.573 (  21.045s) [main            ]       NewtonSolver.cpp:36    INFO| Newton iteration 5: r (abs) = 0.371434 (tol = 1e-08) r (rel) = 0.0057725(tol = 1e-08)\n",
      "2024-09-16 20:10:34.712 (  21.184s) [main            ]              petsc.cpp:698   INFO| PETSc Krylov solver starting to solve system.\n",
      "2024-09-16 20:10:34.989 (  21.461s) [main            ]       NewtonSolver.cpp:36    INFO| Newton iteration 6: r (abs) = 0.00215066 (tol = 1e-08) r (rel) = 3.34236e-05(tol = 1e-08)\n",
      "2024-09-16 20:10:35.125 (  21.596s) [main            ]              petsc.cpp:698   INFO| PETSc Krylov solver starting to solve system.\n",
      "2024-09-16 20:10:35.409 (  21.881s) [main            ]       NewtonSolver.cpp:36    INFO| Newton iteration 7: r (abs) = 2.54607e-06 (tol = 1e-08) r (rel) = 3.95687e-08(tol = 1e-08)\n",
      "2024-09-16 20:10:35.547 (  22.018s) [main            ]              petsc.cpp:698   INFO| PETSc Krylov solver starting to solve system.\n"
     ]
    },
    {
     "name": "stdout",
     "output_type": "stream",
     "text": [
      "Time step 5, Number of iterations 8, Load [ 0.   0.  -7.5]\n"
     ]
    },
    {
     "name": "stderr",
     "output_type": "stream",
     "text": [
      "2024-09-16 20:10:35.806 (  22.278s) [main            ]       NewtonSolver.cpp:36    INFO| Newton iteration 8: r (abs) = 1.45713e-13 (tol = 1e-08) r (rel) = 2.26454e-15(tol = 1e-08)\n",
      "2024-09-16 20:10:35.807 (  22.278s) [main            ]       NewtonSolver.cpp:255   INFO| Newton solver finished in 8 iterations and 8 linear solver iterations.\n",
      "2024-09-16 20:10:36.010 (  22.481s) [main            ]              petsc.cpp:698   INFO| PETSc Krylov solver starting to solve system.\n",
      "2024-09-16 20:10:36.734 (  23.205s) [main            ]              petsc.cpp:698   INFO| PETSc Krylov solver starting to solve system.\n",
      "2024-09-16 20:10:37.099 (  23.570s) [main            ]       NewtonSolver.cpp:36    INFO| Newton iteration 2: r (abs) = 2.00649 (tol = 1e-08) r (rel) = 0.0395622(tol = 1e-08)\n",
      "2024-09-16 20:10:37.247 (  23.718s) [main            ]              petsc.cpp:698   INFO| PETSc Krylov solver starting to solve system.\n",
      "2024-09-16 20:10:37.556 (  24.028s) [main            ]       NewtonSolver.cpp:36    INFO| Newton iteration 3: r (abs) = 4.60977 (tol = 1e-08) r (rel) = 0.0908914(tol = 1e-08)\n",
      "2024-09-16 20:10:37.699 (  24.170s) [main            ]              petsc.cpp:698   INFO| PETSc Krylov solver starting to solve system.\n",
      "2024-09-16 20:10:38.022 (  24.494s) [main            ]       NewtonSolver.cpp:36    INFO| Newton iteration 4: r (abs) = 0.185372 (tol = 1e-08) r (rel) = 0.00365501(tol = 1e-08)\n",
      "2024-09-16 20:10:38.143 (  24.614s) [main            ]              petsc.cpp:698   INFO| PETSc Krylov solver starting to solve system.\n",
      "2024-09-16 20:10:38.536 (  25.008s) [main            ]       NewtonSolver.cpp:36    INFO| Newton iteration 5: r (abs) = 0.024688 (tol = 1e-08) r (rel) = 0.000486777(tol = 1e-08)\n",
      "2024-09-16 20:10:38.679 (  25.150s) [main            ]              petsc.cpp:698   INFO| PETSc Krylov solver starting to solve system.\n",
      "2024-09-16 20:10:38.944 (  25.416s) [main            ]       NewtonSolver.cpp:36    INFO| Newton iteration 6: r (abs) = 5.69254e-06 (tol = 1e-08) r (rel) = 1.12241e-07(tol = 1e-08)\n",
      "2024-09-16 20:10:39.069 (  25.541s) [main            ]              petsc.cpp:698   INFO| PETSc Krylov solver starting to solve system.\n",
      "2024-09-16 20:10:39.672 (  26.144s) [main            ]       NewtonSolver.cpp:36    INFO| Newton iteration 7: r (abs) = 2.6531e-11 (tol = 1e-08) r (rel) = 5.23114e-13(tol = 1e-08)\n",
      "2024-09-16 20:10:39.672 (  26.144s) [main            ]       NewtonSolver.cpp:255   INFO| Newton solver finished in 7 iterations and 7 linear solver iterations.\n",
      "2024-09-16 20:10:39.868 (  26.339s) [main            ]              petsc.cpp:698   INFO| PETSc Krylov solver starting to solve system.\n"
     ]
    },
    {
     "name": "stdout",
     "output_type": "stream",
     "text": [
      "Time step 6, Number of iterations 7, Load [ 0.  0. -9.]\n"
     ]
    },
    {
     "name": "stderr",
     "output_type": "stream",
     "text": [
      "2024-09-16 20:10:40.651 (  27.123s) [main            ]              petsc.cpp:698   INFO| PETSc Krylov solver starting to solve system.\n",
      "2024-09-16 20:10:40.950 (  27.422s) [main            ]       NewtonSolver.cpp:36    INFO| Newton iteration 2: r (abs) = 1.38506 (tol = 1e-08) r (rel) = 0.0336622(tol = 1e-08)\n",
      "2024-09-16 20:10:41.088 (  27.560s) [main            ]              petsc.cpp:698   INFO| PETSc Krylov solver starting to solve system.\n",
      "2024-09-16 20:10:41.379 (  27.850s) [main            ]       NewtonSolver.cpp:36    INFO| Newton iteration 3: r (abs) = 3.03739 (tol = 1e-08) r (rel) = 0.07382(tol = 1e-08)\n",
      "2024-09-16 20:10:41.521 (  27.993s) [main            ]              petsc.cpp:698   INFO| PETSc Krylov solver starting to solve system.\n",
      "2024-09-16 20:10:41.799 (  28.271s) [main            ]       NewtonSolver.cpp:36    INFO| Newton iteration 4: r (abs) = 0.0412386 (tol = 1e-08) r (rel) = 0.00100225(tol = 1e-08)\n",
      "2024-09-16 20:10:41.935 (  28.406s) [main            ]              petsc.cpp:698   INFO| PETSc Krylov solver starting to solve system.\n",
      "2024-09-16 20:10:42.206 (  28.678s) [main            ]       NewtonSolver.cpp:36    INFO| Newton iteration 5: r (abs) = 0.00205057 (tol = 1e-08) r (rel) = 4.98364e-05(tol = 1e-08)\n",
      "2024-09-16 20:10:42.342 (  28.814s) [main            ]              petsc.cpp:698   INFO| PETSc Krylov solver starting to solve system.\n",
      "2024-09-16 20:10:42.620 (  29.091s) [main            ]       NewtonSolver.cpp:36    INFO| Newton iteration 6: r (abs) = 1.7886e-08 (tol = 1e-08) r (rel) = 4.34697e-10(tol = 1e-08)\n",
      "2024-09-16 20:10:42.620 (  29.091s) [main            ]       NewtonSolver.cpp:255   INFO| Newton solver finished in 6 iterations and 6 linear solver iterations.\n",
      "2024-09-16 20:10:42.793 (  29.265s) [main            ]              petsc.cpp:698   INFO| PETSc Krylov solver starting to solve system.\n"
     ]
    },
    {
     "name": "stdout",
     "output_type": "stream",
     "text": [
      "Time step 7, Number of iterations 6, Load [  0.    0.  -10.5]\n"
     ]
    },
    {
     "name": "stderr",
     "output_type": "stream",
     "text": [
      "2024-09-16 20:10:43.196 (  29.668s) [main            ]              petsc.cpp:698   INFO| PETSc Krylov solver starting to solve system.\n",
      "2024-09-16 20:10:43.475 (  29.946s) [main            ]       NewtonSolver.cpp:36    INFO| Newton iteration 2: r (abs) = 1.06336 (tol = 1e-08) r (rel) = 0.031085(tol = 1e-08)\n",
      "2024-09-16 20:10:43.609 (  30.081s) [main            ]              petsc.cpp:698   INFO| PETSc Krylov solver starting to solve system.\n",
      "2024-09-16 20:10:43.845 (  30.316s) [main            ]       NewtonSolver.cpp:36    INFO| Newton iteration 3: r (abs) = 2.0477 (tol = 1e-08) r (rel) = 0.0598598(tol = 1e-08)\n",
      "2024-09-16 20:10:43.978 (  30.450s) [main            ]              petsc.cpp:698   INFO| PETSc Krylov solver starting to solve system.\n",
      "2024-09-16 20:10:44.311 (  30.782s) [main            ]       NewtonSolver.cpp:36    INFO| Newton iteration 4: r (abs) = 0.00897719 (tol = 1e-08) r (rel) = 0.000262427(tol = 1e-08)\n",
      "2024-09-16 20:10:44.457 (  30.929s) [main            ]              petsc.cpp:698   INFO| PETSc Krylov solver starting to solve system.\n",
      "2024-09-16 20:10:44.719 (  31.191s) [main            ]       NewtonSolver.cpp:36    INFO| Newton iteration 5: r (abs) = 0.000167422 (tol = 1e-08) r (rel) = 4.89419e-06(tol = 1e-08)\n",
      "2024-09-16 20:10:44.855 (  31.327s) [main            ]              petsc.cpp:698   INFO| PETSc Krylov solver starting to solve system.\n",
      "2024-09-16 20:10:45.114 (  31.586s) [main            ]       NewtonSolver.cpp:36    INFO| Newton iteration 6: r (abs) = 3.26265e-11 (tol = 1e-08) r (rel) = 9.53759e-13(tol = 1e-08)\n",
      "2024-09-16 20:10:45.114 (  31.586s) [main            ]       NewtonSolver.cpp:255   INFO| Newton solver finished in 6 iterations and 6 linear solver iterations.\n",
      "2024-09-16 20:10:45.284 (  31.756s) [main            ]              petsc.cpp:698   INFO| PETSc Krylov solver starting to solve system.\n"
     ]
    },
    {
     "name": "stdout",
     "output_type": "stream",
     "text": [
      "Time step 8, Number of iterations 6, Load [  0.   0. -12.]\n"
     ]
    },
    {
     "name": "stderr",
     "output_type": "stream",
     "text": [
      "2024-09-16 20:10:45.735 (  32.207s) [main            ]              petsc.cpp:698   INFO| PETSc Krylov solver starting to solve system.\n",
      "2024-09-16 20:10:45.996 (  32.467s) [main            ]       NewtonSolver.cpp:36    INFO| Newton iteration 2: r (abs) = 0.898789 (tol = 1e-08) r (rel) = 0.0309666(tol = 1e-08)\n",
      "2024-09-16 20:10:46.121 (  32.592s) [main            ]              petsc.cpp:698   INFO| PETSc Krylov solver starting to solve system.\n",
      "2024-09-16 20:10:46.387 (  32.859s) [main            ]       NewtonSolver.cpp:36    INFO| Newton iteration 3: r (abs) = 1.38354 (tol = 1e-08) r (rel) = 0.0476679(tol = 1e-08)\n",
      "2024-09-16 20:10:46.511 (  32.983s) [main            ]              petsc.cpp:698   INFO| PETSc Krylov solver starting to solve system.\n",
      "2024-09-16 20:10:46.913 (  33.385s) [main            ]       NewtonSolver.cpp:36    INFO| Newton iteration 4: r (abs) = 0.00185096 (tol = 1e-08) r (rel) = 6.37724e-05(tol = 1e-08)\n",
      "2024-09-16 20:10:47.083 (  33.555s) [main            ]              petsc.cpp:698   INFO| PETSc Krylov solver starting to solve system.\n",
      "2024-09-16 20:10:47.353 (  33.825s) [main            ]       NewtonSolver.cpp:36    INFO| Newton iteration 5: r (abs) = 7.87183e-06 (tol = 1e-08) r (rel) = 2.71213e-07(tol = 1e-08)\n",
      "2024-09-16 20:10:47.489 (  33.961s) [main            ]              petsc.cpp:698   INFO| PETSc Krylov solver starting to solve system.\n",
      "2024-09-16 20:10:47.752 (  34.224s) [main            ]       NewtonSolver.cpp:36    INFO| Newton iteration 6: r (abs) = 2.72347e-13 (tol = 1e-08) r (rel) = 9.38335e-15(tol = 1e-08)\n",
      "2024-09-16 20:10:47.752 (  34.224s) [main            ]       NewtonSolver.cpp:255   INFO| Newton solver finished in 6 iterations and 6 linear solver iterations.\n"
     ]
    },
    {
     "name": "stdout",
     "output_type": "stream",
     "text": [
      "Time step 9, Number of iterations 6, Load [  0.    0.  -13.5]\n"
     ]
    }
   ],
   "source": [
    "log.set_log_level(log.LogLevel.INFO)\n",
    "tval0 = -1.5\n",
    "for n in range(1, 10):\n",
    "    T.value[2] = n * tval0\n",
    "    num_its, converged = solver.solve(u)\n",
    "    assert (converged)\n",
    "    u.x.scatter_forward()\n",
    "    print(f\"Time step {n}, Number of iterations {num_its}, Load {T.value}\")\n",
    "    function_grid[\"u\"][:, :len(u)] = u.x.array.reshape(geometry.shape[0], len(u))\n",
    "    magnitude.interpolate(us)\n",
    "    warped.set_active_scalars(\"mag\")\n",
    "    warped_n = function_grid.warp_by_vector(factor=1)\n",
    "    warped.points[:, :] = warped_n.points\n",
    "    warped.point_data[\"mag\"][:] = magnitude.x.array\n",
    "    plotter.update_scalar_bar_range([0, 10])\n",
    "    plotter.write_frame()\n",
    "plotter.close()"
   ]
  },
  {
   "cell_type": "markdown",
   "id": "906ef59c-7e89-46e7-9222-9a6e925f4180",
   "metadata": {},
   "source": [
    "<img src=\"./results_hyperelasticity/deformation.gif\" alt=\"gif\" class=\"bg-primary mb-1\" width=\"800px\">"
   ]
  },
  {
   "cell_type": "markdown",
   "id": "f0047305",
   "metadata": {},
   "source": []
  }
 ],
 "metadata": {
  "jupytext": {
   "formats": "ipynb,py:light"
  },
  "kernelspec": {
   "display_name": "Python 3 (ipykernel)",
   "language": "python",
   "name": "python3"
  },
  "language_info": {
   "codemirror_mode": {
    "name": "ipython",
    "version": 3
   },
   "file_extension": ".py",
   "mimetype": "text/x-python",
   "name": "python",
   "nbconvert_exporter": "python",
   "pygments_lexer": "ipython3",
   "version": "3.12.1"
  }
 },
 "nbformat": 4,
 "nbformat_minor": 5
}
