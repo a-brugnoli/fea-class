{
 "cells": [
  {
   "cell_type": "markdown",
   "id": "908815e6-cdac-4915-bf52-5578f978d2e7",
   "metadata": {},
   "source": [
    "# Hyperelasticity\n",
    "Author: Jørgen S. Dokken and Garth N. Wells\n",
    "\n",
    "This section shows how to solve the hyperelasticity problem for deformation of a beam.\n",
    "\n",
    "We will also show how to create a constant boundary condition for a vector function space.\n",
    "\n",
    "We start by importing DOLFINx and some additional dependencies.\n",
    "Then, we create a slender cantilever consisting of hexahedral elements and create the function space `V` for our unknown."
   ]
  },
  {
   "cell_type": "code",
   "execution_count": 1,
   "id": "optional-cameroon",
   "metadata": {
    "tags": []
   },
   "outputs": [],
   "source": [
    "from dolfinx import log, default_scalar_type\n",
    "from dolfinx.fem.petsc import NonlinearProblem\n",
    "from dolfinx.nls.petsc import NewtonSolver\n",
    "import pyvista\n",
    "import numpy as np\n",
    "import ufl\n",
    "\n",
    "from mpi4py import MPI\n",
    "from dolfinx import fem, mesh, plot\n",
    "L = 20.0\n",
    "domain = mesh.create_box(MPI.COMM_WORLD, [[0.0, 0.0, 0.0], [L, 1, 1]], [20, 5, 5], mesh.CellType.hexahedron)\n",
    "V = fem.functionspace(domain, (\"Lagrange\", 2, (domain.geometry.dim, )))"
   ]
  },
  {
   "cell_type": "markdown",
   "id": "streaming-neutral",
   "metadata": {},
   "source": [
    "We create two python functions for determining the facets to apply boundary conditions to"
   ]
  },
  {
   "cell_type": "code",
   "execution_count": 2,
   "id": "major-factor",
   "metadata": {},
   "outputs": [],
   "source": [
    "def left(x):\n",
    "    return np.isclose(x[0], 0)\n",
    "\n",
    "\n",
    "def right(x):\n",
    "    return np.isclose(x[0], L)\n",
    "\n",
    "\n",
    "fdim = domain.topology.dim - 1\n",
    "left_facets = mesh.locate_entities_boundary(domain, fdim, left)\n",
    "right_facets = mesh.locate_entities_boundary(domain, fdim, right)"
   ]
  },
  {
   "cell_type": "markdown",
   "id": "figured-world",
   "metadata": {},
   "source": [
    "Next, we create a  marker based on these two functions"
   ]
  },
  {
   "cell_type": "code",
   "execution_count": 3,
   "id": "dated-india",
   "metadata": {},
   "outputs": [],
   "source": [
    "# Concatenate and sort the arrays based on facet indices. Left facets marked with 1, right facets with two\n",
    "marked_facets = np.hstack([left_facets, right_facets])\n",
    "marked_values = np.hstack([np.full_like(left_facets, 1), np.full_like(right_facets, 2)])\n",
    "sorted_facets = np.argsort(marked_facets)\n",
    "facet_tag = mesh.meshtags(domain, fdim, marked_facets[sorted_facets], marked_values[sorted_facets])"
   ]
  },
  {
   "cell_type": "markdown",
   "id": "renewable-glossary",
   "metadata": {},
   "source": [
    "We then create a function for supplying the boundary condition on the left side, which is fixed."
   ]
  },
  {
   "cell_type": "code",
   "execution_count": 4,
   "id": "confidential-french",
   "metadata": {},
   "outputs": [],
   "source": [
    "u_bc = np.array((0,) * domain.geometry.dim, dtype=default_scalar_type)"
   ]
  },
  {
   "cell_type": "markdown",
   "id": "musical-documentation",
   "metadata": {},
   "source": [
    "To apply the boundary condition, we identity the dofs located on the facets marked by the `MeshTag`."
   ]
  },
  {
   "cell_type": "code",
   "execution_count": 5,
   "id": "written-monster",
   "metadata": {},
   "outputs": [],
   "source": [
    "left_dofs = fem.locate_dofs_topological(V, facet_tag.dim, facet_tag.find(1))\n",
    "bcs = [fem.dirichletbc(u_bc, left_dofs, V)]"
   ]
  },
  {
   "cell_type": "markdown",
   "id": "indoor-chester",
   "metadata": {},
   "source": [
    "Next, we define the body force on the reference configuration (`B`), and nominal (first Piola-Kirchhoff) traction (`T`)."
   ]
  },
  {
   "cell_type": "code",
   "execution_count": 6,
   "id": "korean-carol",
   "metadata": {},
   "outputs": [],
   "source": [
    "B = fem.Constant(domain, default_scalar_type((0, 0, 0)))\n",
    "T = fem.Constant(domain, default_scalar_type((0, 0, 0)))"
   ]
  },
  {
   "cell_type": "markdown",
   "id": "blond-dynamics",
   "metadata": {},
   "source": [
    "Define the test and solution functions on the space $V$"
   ]
  },
  {
   "cell_type": "code",
   "execution_count": 7,
   "id": "vocational-experiment",
   "metadata": {},
   "outputs": [],
   "source": [
    "v = ufl.TestFunction(V)\n",
    "u = fem.Function(V)"
   ]
  },
  {
   "cell_type": "markdown",
   "id": "bright-belle",
   "metadata": {},
   "source": [
    "Define kinematic quantities used in the problem"
   ]
  },
  {
   "cell_type": "code",
   "execution_count": 8,
   "id": "vertical-original",
   "metadata": {},
   "outputs": [],
   "source": [
    "# Spatial dimension\n",
    "d = len(u)\n",
    "\n",
    "# Identity tensor\n",
    "I = ufl.variable(ufl.Identity(d))\n",
    "\n",
    "# Deformation gradient\n",
    "F = ufl.variable(I + ufl.grad(u))\n",
    "\n",
    "# Right Cauchy-Green tensor\n",
    "C = ufl.variable(F.T * F)\n",
    "\n",
    "# Invariants of deformation tensors\n",
    "Ic = ufl.variable(ufl.tr(C))\n",
    "J = ufl.variable(ufl.det(F))"
   ]
  },
  {
   "cell_type": "markdown",
   "id": "respiratory-compromise",
   "metadata": {},
   "source": [
    "Define the elasticity model via a stored strain energy density function $\\psi$, and create the expression for the first Piola-Kirchhoff stress:"
   ]
  },
  {
   "cell_type": "code",
   "execution_count": 9,
   "id": "incorrect-hello",
   "metadata": {},
   "outputs": [],
   "source": [
    "# Elasticity parameters\n",
    "E = default_scalar_type(1.0e4)\n",
    "nu = default_scalar_type(0.3)\n",
    "mu = fem.Constant(domain, E / (2 * (1 + nu)))\n",
    "lmbda = fem.Constant(domain, E * nu / ((1 + nu) * (1 - 2 * nu)))\n",
    "# Stored strain energy density (compressible neo-Hookean model)\n",
    "psi = (mu / 2) * (Ic - 3) - mu * ufl.ln(J) + (lmbda / 2) * (ufl.ln(J))**2\n",
    "# Stress\n",
    "# Hyper-elasticity\n",
    "P = ufl.diff(psi, F)"
   ]
  },
  {
   "cell_type": "markdown",
   "id": "grateful-battlefield",
   "metadata": {},
   "source": [
    "```{admonition} Comparison to linear elasticity\n",
    "To illustrate the difference between linear and hyperelasticity, the following lines can be uncommented to solve the linear elasticity problem.\n",
    "```"
   ]
  },
  {
   "cell_type": "code",
   "execution_count": 10,
   "id": "imperial-jurisdiction",
   "metadata": {},
   "outputs": [],
   "source": [
    "# P = 2.0 * mu * ufl.sym(ufl.grad(u)) + lmbda * ufl.tr(ufl.sym(ufl.grad(u))) * I"
   ]
  },
  {
   "cell_type": "markdown",
   "id": "alleged-genesis",
   "metadata": {},
   "source": [
    "Define the variational form with traction integral over all facets with value 2. We set the quadrature degree for the integrals to 4."
   ]
  },
  {
   "cell_type": "code",
   "execution_count": 11,
   "id": "recognized-conclusion",
   "metadata": {},
   "outputs": [],
   "source": [
    "metadata = {\"quadrature_degree\": 4}\n",
    "ds = ufl.Measure('ds', domain=domain, subdomain_data=facet_tag, metadata=metadata)\n",
    "dx = ufl.Measure(\"dx\", domain=domain, metadata=metadata)\n",
    "# Define form F (we want to find u such that F(u) = 0)\n",
    "F = ufl.inner(ufl.grad(v), P) * dx - ufl.inner(v, B) * dx - ufl.inner(v, T) * ds(2)"
   ]
  },
  {
   "cell_type": "markdown",
   "id": "historic-sherman",
   "metadata": {},
   "source": [
    "As the varitional form is non-linear and written on residual form, we use the non-linear problem class from DOLFINx to set up required structures to use a Newton solver."
   ]
  },
  {
   "cell_type": "code",
   "execution_count": 12,
   "id": "threatened-devices",
   "metadata": {},
   "outputs": [],
   "source": [
    "problem = NonlinearProblem(F, u, bcs)"
   ]
  },
  {
   "cell_type": "markdown",
   "id": "qualified-phrase",
   "metadata": {},
   "source": [
    "and then create and customize the Newton solver"
   ]
  },
  {
   "cell_type": "code",
   "execution_count": 13,
   "id": "special-globe",
   "metadata": {},
   "outputs": [],
   "source": [
    "solver = NewtonSolver(domain.comm, problem)\n",
    "\n",
    "# Set Newton solver options\n",
    "solver.atol = 1e-8\n",
    "solver.rtol = 1e-8\n",
    "solver.convergence_criterion = \"incremental\"\n"
   ]
  },
  {
   "cell_type": "markdown",
   "id": "marked-hungary",
   "metadata": {},
   "source": [
    "We create a function to plot the solution at each time step."
   ]
  },
  {
   "cell_type": "code",
   "execution_count": 17,
   "id": "noble-perception",
   "metadata": {},
   "outputs": [],
   "source": [
    "from pathlib import Path\n",
    "import os\n",
    "current_directory = os.getcwd()\n",
    "results_folder = Path(current_directory + '/fenicsx/hyperelasticity/results/')\n",
    "results_folder.mkdir(exist_ok=True, parents=True)\n",
    "\n",
    "pyvista.start_xvfb()\n",
    "plotter = pyvista.Plotter()\n",
    "plotter.open_gif(str(results_folder) + \"/displacement.gif\", fps=3)\n",
    "\n",
    "topology, cells, geometry = plot.vtk_mesh(u.function_space)\n",
    "function_grid = pyvista.UnstructuredGrid(topology, cells, geometry)\n",
    "\n",
    "values = np.zeros((geometry.shape[0], 3))\n",
    "values[:, :len(u)] = u.x.array.reshape(geometry.shape[0], len(u))\n",
    "function_grid[\"u\"] = values\n",
    "function_grid.set_active_vectors(\"u\")\n",
    "\n",
    "# Warp mesh by deformation\n",
    "warped = function_grid.warp_by_vector(\"u\", factor=1)\n",
    "warped.set_active_vectors(\"u\")\n",
    "\n",
    "# Add mesh to plotter and visualize\n",
    "actor = plotter.add_mesh(warped, show_edges=True, lighting=False, clim=[0, 10])\n",
    "\n",
    "# Compute magnitude of displacement to visualize in GIF\n",
    "Vs = fem.functionspace(domain, (\"Lagrange\", 2))\n",
    "magnitude = fem.Function(Vs)\n",
    "us = fem.Expression(ufl.sqrt(sum([u[i]**2 for i in range(len(u))])), Vs.element.interpolation_points())\n",
    "magnitude.interpolate(us)\n",
    "warped[\"mag\"] = magnitude.x.array"
   ]
  },
  {
   "cell_type": "markdown",
   "id": "nasty-entertainment",
   "metadata": {},
   "source": [
    "Finally, we solve the problem over several time steps, updating the z-component of the traction"
   ]
  },
  {
   "cell_type": "code",
   "execution_count": 18,
   "id": "vanilla-referral",
   "metadata": {},
   "outputs": [
    {
     "name": "stderr",
     "output_type": "stream",
     "text": [
      "2024-09-17 11:54:25.877 ( 352.514s) [main            ]              petsc.cpp:698   INFO| PETSc Krylov solver starting to solve system.\n",
      "2024-09-17 11:54:26.310 ( 352.947s) [main            ]              petsc.cpp:698   INFO| PETSc Krylov solver starting to solve system.\n",
      "2024-09-17 11:54:26.552 ( 353.189s) [main            ]       NewtonSolver.cpp:36    INFO| Newton iteration 2: r (abs) = 22.2455 (tol = 1e-08) r (rel) = 0.134278(tol = 1e-08)\n",
      "2024-09-17 11:54:26.672 ( 353.309s) [main            ]              petsc.cpp:698   INFO| PETSc Krylov solver starting to solve system.\n",
      "2024-09-17 11:54:26.913 ( 353.550s) [main            ]       NewtonSolver.cpp:36    INFO| Newton iteration 3: r (abs) = 2.43261 (tol = 1e-08) r (rel) = 0.0146837(tol = 1e-08)\n",
      "2024-09-17 11:54:27.048 ( 353.685s) [main            ]              petsc.cpp:698   INFO| PETSc Krylov solver starting to solve system.\n",
      "2024-09-17 11:54:27.282 ( 353.919s) [main            ]       NewtonSolver.cpp:36    INFO| Newton iteration 4: r (abs) = 4.43158 (tol = 1e-08) r (rel) = 0.0267498(tol = 1e-08)\n",
      "2024-09-17 11:54:27.404 ( 354.042s) [main            ]              petsc.cpp:698   INFO| PETSc Krylov solver starting to solve system.\n",
      "2024-09-17 11:54:27.631 ( 354.269s) [main            ]       NewtonSolver.cpp:36    INFO| Newton iteration 5: r (abs) = 0.144189 (tol = 1e-08) r (rel) = 0.000870353(tol = 1e-08)\n",
      "2024-09-17 11:54:27.752 ( 354.389s) [main            ]              petsc.cpp:698   INFO| PETSc Krylov solver starting to solve system.\n",
      "2024-09-17 11:54:27.984 ( 354.622s) [main            ]       NewtonSolver.cpp:36    INFO| Newton iteration 6: r (abs) = 0.021424 (tol = 1e-08) r (rel) = 0.000129319(tol = 1e-08)\n",
      "2024-09-17 11:54:28.095 ( 354.732s) [main            ]              petsc.cpp:698   INFO| PETSc Krylov solver starting to solve system.\n",
      "2024-09-17 11:54:28.334 ( 354.971s) [main            ]       NewtonSolver.cpp:36    INFO| Newton iteration 7: r (abs) = 4.80066e-06 (tol = 1e-08) r (rel) = 2.89777e-08(tol = 1e-08)\n",
      "2024-09-17 11:54:28.457 ( 355.094s) [main            ]              petsc.cpp:698   INFO| PETSc Krylov solver starting to solve system.\n",
      "2024-09-17 11:54:28.701 ( 355.339s) [main            ]       NewtonSolver.cpp:36    INFO| Newton iteration 8: r (abs) = 2.60719e-11 (tol = 1e-08) r (rel) = 1.57375e-13(tol = 1e-08)\n",
      "2024-09-17 11:54:28.701 ( 355.339s) [main            ]       NewtonSolver.cpp:255   INFO| Newton solver finished in 8 iterations and 8 linear solver iterations.\n"
     ]
    },
    {
     "name": "stdout",
     "output_type": "stream",
     "text": [
      "Time step 1, Number of iterations 8, Load [ 0.   0.  -1.5]\n"
     ]
    },
    {
     "name": "stderr",
     "output_type": "stream",
     "text": [
      "2024-09-17 11:54:28.962 ( 355.599s) [main            ]              petsc.cpp:698   INFO| PETSc Krylov solver starting to solve system.\n",
      "2024-09-17 11:54:29.328 ( 355.966s) [main            ]              petsc.cpp:698   INFO| PETSc Krylov solver starting to solve system.\n",
      "2024-09-17 11:54:29.575 ( 356.213s) [main            ]       NewtonSolver.cpp:36    INFO| Newton iteration 2: r (abs) = 17.3254 (tol = 1e-08) r (rel) = 0.117842(tol = 1e-08)\n",
      "2024-09-17 11:54:29.699 ( 356.337s) [main            ]              petsc.cpp:698   INFO| PETSc Krylov solver starting to solve system.\n",
      "2024-09-17 11:54:29.937 ( 356.575s) [main            ]       NewtonSolver.cpp:36    INFO| Newton iteration 3: r (abs) = 5.14882 (tol = 1e-08) r (rel) = 0.0350207(tol = 1e-08)\n",
      "2024-09-17 11:54:30.061 ( 356.699s) [main            ]              petsc.cpp:698   INFO| PETSc Krylov solver starting to solve system.\n",
      "2024-09-17 11:54:30.335 ( 356.972s) [main            ]       NewtonSolver.cpp:36    INFO| Newton iteration 4: r (abs) = 7.24003 (tol = 1e-08) r (rel) = 0.0492445(tol = 1e-08)\n",
      "2024-09-17 11:54:30.461 ( 357.098s) [main            ]              petsc.cpp:698   INFO| PETSc Krylov solver starting to solve system.\n",
      "2024-09-17 11:54:30.717 ( 357.354s) [main            ]       NewtonSolver.cpp:36    INFO| Newton iteration 5: r (abs) = 0.777889 (tol = 1e-08) r (rel) = 0.00529096(tol = 1e-08)\n",
      "2024-09-17 11:54:30.843 ( 357.480s) [main            ]              petsc.cpp:698   INFO| PETSc Krylov solver starting to solve system.\n",
      "2024-09-17 11:54:31.108 ( 357.745s) [main            ]       NewtonSolver.cpp:36    INFO| Newton iteration 6: r (abs) = 1.25525 (tol = 1e-08) r (rel) = 0.00853785(tol = 1e-08)\n",
      "2024-09-17 11:54:31.235 ( 357.872s) [main            ]              petsc.cpp:698   INFO| PETSc Krylov solver starting to solve system.\n",
      "2024-09-17 11:54:31.534 ( 358.171s) [main            ]       NewtonSolver.cpp:36    INFO| Newton iteration 7: r (abs) = 0.00849512 (tol = 1e-08) r (rel) = 5.77813e-05(tol = 1e-08)\n",
      "2024-09-17 11:54:31.681 ( 358.318s) [main            ]              petsc.cpp:698   INFO| PETSc Krylov solver starting to solve system.\n",
      "2024-09-17 11:54:31.998 ( 358.635s) [main            ]       NewtonSolver.cpp:36    INFO| Newton iteration 8: r (abs) = 0.000192107 (tol = 1e-08) r (rel) = 1.30665e-06(tol = 1e-08)\n",
      "2024-09-17 11:54:32.139 ( 358.776s) [main            ]              petsc.cpp:698   INFO| PETSc Krylov solver starting to solve system.\n",
      "2024-09-17 11:54:32.391 ( 359.028s) [main            ]       NewtonSolver.cpp:36    INFO| Newton iteration 9: r (abs) = 1.70776e-10 (tol = 1e-08) r (rel) = 1.16157e-12(tol = 1e-08)\n",
      "2024-09-17 11:54:32.391 ( 359.028s) [main            ]       NewtonSolver.cpp:255   INFO| Newton solver finished in 9 iterations and 9 linear solver iterations.\n",
      "2024-09-17 11:54:32.563 ( 359.200s) [main            ]              petsc.cpp:698   INFO| PETSc Krylov solver starting to solve system.\n"
     ]
    },
    {
     "name": "stdout",
     "output_type": "stream",
     "text": [
      "Time step 2, Number of iterations 9, Load [ 0.  0. -3.]\n"
     ]
    },
    {
     "name": "stderr",
     "output_type": "stream",
     "text": [
      "2024-09-17 11:54:32.951 ( 359.588s) [main            ]              petsc.cpp:698   INFO| PETSc Krylov solver starting to solve system.\n",
      "2024-09-17 11:54:33.314 ( 359.952s) [main            ]       NewtonSolver.cpp:36    INFO| Newton iteration 2: r (abs) = 10.0011 (tol = 1e-08) r (rel) = 0.0887471(tol = 1e-08)\n",
      "2024-09-17 11:54:33.454 ( 360.091s) [main            ]              petsc.cpp:698   INFO| PETSc Krylov solver starting to solve system.\n",
      "2024-09-17 11:54:33.703 ( 360.340s) [main            ]       NewtonSolver.cpp:36    INFO| Newton iteration 3: r (abs) = 5.33026 (tol = 1e-08) r (rel) = 0.0472992(tol = 1e-08)\n",
      "2024-09-17 11:54:33.832 ( 360.470s) [main            ]              petsc.cpp:698   INFO| PETSc Krylov solver starting to solve system.\n",
      "2024-09-17 11:54:34.097 ( 360.734s) [main            ]       NewtonSolver.cpp:36    INFO| Newton iteration 4: r (abs) = 11.9901 (tol = 1e-08) r (rel) = 0.106397(tol = 1e-08)\n",
      "2024-09-17 11:54:34.225 ( 360.863s) [main            ]              petsc.cpp:698   INFO| PETSc Krylov solver starting to solve system.\n",
      "2024-09-17 11:54:34.468 ( 361.106s) [main            ]       NewtonSolver.cpp:36    INFO| Newton iteration 5: r (abs) = 2.29702 (tol = 1e-08) r (rel) = 0.0203831(tol = 1e-08)\n",
      "2024-09-17 11:54:34.600 ( 361.238s) [main            ]              petsc.cpp:698   INFO| PETSc Krylov solver starting to solve system.\n",
      "2024-09-17 11:54:34.867 ( 361.504s) [main            ]       NewtonSolver.cpp:36    INFO| Newton iteration 6: r (abs) = 3.90234 (tol = 1e-08) r (rel) = 0.0346282(tol = 1e-08)\n",
      "2024-09-17 11:54:34.999 ( 361.636s) [main            ]              petsc.cpp:698   INFO| PETSc Krylov solver starting to solve system.\n",
      "2024-09-17 11:54:35.357 ( 361.994s) [main            ]       NewtonSolver.cpp:36    INFO| Newton iteration 7: r (abs) = 0.236535 (tol = 1e-08) r (rel) = 0.00209895(tol = 1e-08)\n",
      "2024-09-17 11:54:35.490 ( 362.128s) [main            ]              petsc.cpp:698   INFO| PETSc Krylov solver starting to solve system.\n",
      "2024-09-17 11:54:35.769 ( 362.407s) [main            ]       NewtonSolver.cpp:36    INFO| Newton iteration 8: r (abs) = 0.0427142 (tol = 1e-08) r (rel) = 0.000379034(tol = 1e-08)\n",
      "2024-09-17 11:54:35.900 ( 362.537s) [main            ]              petsc.cpp:698   INFO| PETSc Krylov solver starting to solve system.\n",
      "2024-09-17 11:54:36.160 ( 362.798s) [main            ]       NewtonSolver.cpp:36    INFO| Newton iteration 9: r (abs) = 2.87798e-05 (tol = 1e-08) r (rel) = 2.55384e-07(tol = 1e-08)\n",
      "2024-09-17 11:54:36.291 ( 362.928s) [main            ]              petsc.cpp:698   INFO| PETSc Krylov solver starting to solve system.\n",
      "2024-09-17 11:54:36.578 ( 363.216s) [main            ]       NewtonSolver.cpp:36    INFO| Newton iteration 10: r (abs) = 6.08986e-10 (tol = 1e-08) r (rel) = 5.40397e-12(tol = 1e-08)\n",
      "2024-09-17 11:54:36.578 ( 363.216s) [main            ]       NewtonSolver.cpp:255   INFO| Newton solver finished in 10 iterations and 10 linear solver iterations.\n"
     ]
    },
    {
     "name": "stdout",
     "output_type": "stream",
     "text": [
      "Time step 3, Number of iterations 10, Load [ 0.   0.  -4.5]\n"
     ]
    },
    {
     "name": "stderr",
     "output_type": "stream",
     "text": [
      "2024-09-17 11:54:36.755 ( 363.392s) [main            ]              petsc.cpp:698   INFO| PETSc Krylov solver starting to solve system.\n",
      "2024-09-17 11:54:37.174 ( 363.812s) [main            ]              petsc.cpp:698   INFO| PETSc Krylov solver starting to solve system.\n",
      "2024-09-17 11:54:37.483 ( 364.121s) [main            ]       NewtonSolver.cpp:36    INFO| Newton iteration 2: r (abs) = 5.50693 (tol = 1e-08) r (rel) = 0.0653918(tol = 1e-08)\n",
      "2024-09-17 11:54:37.620 ( 364.257s) [main            ]              petsc.cpp:698   INFO| PETSc Krylov solver starting to solve system.\n",
      "2024-09-17 11:54:37.876 ( 364.513s) [main            ]       NewtonSolver.cpp:36    INFO| Newton iteration 3: r (abs) = 26.2489 (tol = 1e-08) r (rel) = 0.311692(tol = 1e-08)\n",
      "2024-09-17 11:54:38.010 ( 364.648s) [main            ]              petsc.cpp:698   INFO| PETSc Krylov solver starting to solve system.\n",
      "2024-09-17 11:54:38.268 ( 364.905s) [main            ]       NewtonSolver.cpp:36    INFO| Newton iteration 4: r (abs) = 2.30927 (tol = 1e-08) r (rel) = 0.0274213(tol = 1e-08)\n",
      "2024-09-17 11:54:38.402 ( 365.039s) [main            ]              petsc.cpp:698   INFO| PETSc Krylov solver starting to solve system.\n",
      "2024-09-17 11:54:38.691 ( 365.328s) [main            ]       NewtonSolver.cpp:36    INFO| Newton iteration 5: r (abs) = 14.0562 (tol = 1e-08) r (rel) = 0.16691(tol = 1e-08)\n",
      "2024-09-17 11:54:38.834 ( 365.471s) [main            ]              petsc.cpp:698   INFO| PETSc Krylov solver starting to solve system.\n",
      "2024-09-17 11:54:39.094 ( 365.731s) [main            ]       NewtonSolver.cpp:36    INFO| Newton iteration 6: r (abs) = 0.222774 (tol = 1e-08) r (rel) = 0.00264532(tol = 1e-08)\n",
      "2024-09-17 11:54:39.229 ( 365.867s) [main            ]              petsc.cpp:698   INFO| PETSc Krylov solver starting to solve system.\n",
      "2024-09-17 11:54:39.489 ( 366.127s) [main            ]       NewtonSolver.cpp:36    INFO| Newton iteration 7: r (abs) = 0.286671 (tol = 1e-08) r (rel) = 0.00340406(tol = 1e-08)\n",
      "2024-09-17 11:54:39.626 ( 366.263s) [main            ]              petsc.cpp:698   INFO| PETSc Krylov solver starting to solve system.\n",
      "2024-09-17 11:54:39.890 ( 366.527s) [main            ]       NewtonSolver.cpp:36    INFO| Newton iteration 8: r (abs) = 0.000321869 (tol = 1e-08) r (rel) = 3.82203e-06(tol = 1e-08)\n"
     ]
    },
    {
     "name": "stdout",
     "output_type": "stream",
     "text": [
      "Time step 4, Number of iterations 9, Load [ 0.  0. -6.]\n"
     ]
    },
    {
     "name": "stderr",
     "output_type": "stream",
     "text": [
      "2024-09-17 11:54:40.026 ( 366.663s) [main            ]              petsc.cpp:698   INFO| PETSc Krylov solver starting to solve system.\n",
      "2024-09-17 11:54:40.287 ( 366.924s) [main            ]       NewtonSolver.cpp:36    INFO| Newton iteration 9: r (abs) = 2.63796e-07 (tol = 1e-08) r (rel) = 3.13244e-09(tol = 1e-08)\n",
      "2024-09-17 11:54:40.287 ( 366.924s) [main            ]       NewtonSolver.cpp:255   INFO| Newton solver finished in 9 iterations and 9 linear solver iterations.\n",
      "2024-09-17 11:54:40.470 ( 367.107s) [main            ]              petsc.cpp:698   INFO| PETSc Krylov solver starting to solve system.\n",
      "2024-09-17 11:54:40.874 ( 367.511s) [main            ]              petsc.cpp:698   INFO| PETSc Krylov solver starting to solve system.\n",
      "2024-09-17 11:54:41.140 ( 367.777s) [main            ]       NewtonSolver.cpp:36    INFO| Newton iteration 2: r (abs) = 3.19462 (tol = 1e-08) r (rel) = 0.0496479(tol = 1e-08)\n",
      "2024-09-17 11:54:41.279 ( 367.917s) [main            ]              petsc.cpp:698   INFO| PETSc Krylov solver starting to solve system.\n",
      "2024-09-17 11:54:41.551 ( 368.189s) [main            ]       NewtonSolver.cpp:36    INFO| Newton iteration 3: r (abs) = 7.71429 (tol = 1e-08) r (rel) = 0.119888(tol = 1e-08)\n",
      "2024-09-17 11:54:41.689 ( 368.327s) [main            ]              petsc.cpp:698   INFO| PETSc Krylov solver starting to solve system.\n",
      "2024-09-17 11:54:41.961 ( 368.598s) [main            ]       NewtonSolver.cpp:36    INFO| Newton iteration 4: r (abs) = 0.850873 (tol = 1e-08) r (rel) = 0.0132235(tol = 1e-08)\n",
      "2024-09-17 11:54:42.099 ( 368.736s) [main            ]              petsc.cpp:698   INFO| PETSc Krylov solver starting to solve system.\n",
      "2024-09-17 11:54:42.369 ( 369.006s) [main            ]       NewtonSolver.cpp:36    INFO| Newton iteration 5: r (abs) = 0.371434 (tol = 1e-08) r (rel) = 0.0057725(tol = 1e-08)\n",
      "2024-09-17 11:54:42.507 ( 369.145s) [main            ]              petsc.cpp:698   INFO| PETSc Krylov solver starting to solve system.\n",
      "2024-09-17 11:54:42.773 ( 369.411s) [main            ]       NewtonSolver.cpp:36    INFO| Newton iteration 6: r (abs) = 0.00215066 (tol = 1e-08) r (rel) = 3.34236e-05(tol = 1e-08)\n",
      "2024-09-17 11:54:42.914 ( 369.551s) [main            ]              petsc.cpp:698   INFO| PETSc Krylov solver starting to solve system.\n",
      "2024-09-17 11:54:43.235 ( 369.873s) [main            ]       NewtonSolver.cpp:36    INFO| Newton iteration 7: r (abs) = 2.54607e-06 (tol = 1e-08) r (rel) = 3.95687e-08(tol = 1e-08)\n",
      "2024-09-17 11:54:43.378 ( 370.016s) [main            ]              petsc.cpp:698   INFO| PETSc Krylov solver starting to solve system.\n",
      "2024-09-17 11:54:43.788 ( 370.425s) [main            ]       NewtonSolver.cpp:36    INFO| Newton iteration 8: r (abs) = 1.45713e-13 (tol = 1e-08) r (rel) = 2.26454e-15(tol = 1e-08)\n",
      "2024-09-17 11:54:43.788 ( 370.425s) [main            ]       NewtonSolver.cpp:255   INFO| Newton solver finished in 8 iterations and 8 linear solver iterations.\n",
      "2024-09-17 11:54:43.981 ( 370.618s) [main            ]              petsc.cpp:698   INFO| PETSc Krylov solver starting to solve system.\n"
     ]
    },
    {
     "name": "stdout",
     "output_type": "stream",
     "text": [
      "Time step 5, Number of iterations 8, Load [ 0.   0.  -7.5]\n"
     ]
    },
    {
     "name": "stderr",
     "output_type": "stream",
     "text": [
      "2024-09-17 11:54:44.409 ( 371.046s) [main            ]              petsc.cpp:698   INFO| PETSc Krylov solver starting to solve system.\n",
      "2024-09-17 11:54:44.693 ( 371.330s) [main            ]       NewtonSolver.cpp:36    INFO| Newton iteration 2: r (abs) = 2.00649 (tol = 1e-08) r (rel) = 0.0395622(tol = 1e-08)\n",
      "2024-09-17 11:54:44.832 ( 371.469s) [main            ]              petsc.cpp:698   INFO| PETSc Krylov solver starting to solve system.\n",
      "2024-09-17 11:54:45.108 ( 371.746s) [main            ]       NewtonSolver.cpp:36    INFO| Newton iteration 3: r (abs) = 4.60977 (tol = 1e-08) r (rel) = 0.0908914(tol = 1e-08)\n",
      "2024-09-17 11:54:45.248 ( 371.885s) [main            ]              petsc.cpp:698   INFO| PETSc Krylov solver starting to solve system.\n",
      "2024-09-17 11:54:45.557 ( 372.194s) [main            ]       NewtonSolver.cpp:36    INFO| Newton iteration 4: r (abs) = 0.185372 (tol = 1e-08) r (rel) = 0.00365501(tol = 1e-08)\n",
      "2024-09-17 11:54:45.699 ( 372.336s) [main            ]              petsc.cpp:698   INFO| PETSc Krylov solver starting to solve system.\n",
      "2024-09-17 11:54:45.972 ( 372.609s) [main            ]       NewtonSolver.cpp:36    INFO| Newton iteration 5: r (abs) = 0.024688 (tol = 1e-08) r (rel) = 0.000486777(tol = 1e-08)\n",
      "2024-09-17 11:54:46.111 ( 372.749s) [main            ]              petsc.cpp:698   INFO| PETSc Krylov solver starting to solve system.\n",
      "2024-09-17 11:54:46.397 ( 373.034s) [main            ]       NewtonSolver.cpp:36    INFO| Newton iteration 6: r (abs) = 5.69254e-06 (tol = 1e-08) r (rel) = 1.12241e-07(tol = 1e-08)\n",
      "2024-09-17 11:54:46.534 ( 373.171s) [main            ]              petsc.cpp:698   INFO| PETSc Krylov solver starting to solve system.\n",
      "2024-09-17 11:54:46.811 ( 373.448s) [main            ]       NewtonSolver.cpp:36    INFO| Newton iteration 7: r (abs) = 2.6531e-11 (tol = 1e-08) r (rel) = 5.23114e-13(tol = 1e-08)\n",
      "2024-09-17 11:54:46.811 ( 373.448s) [main            ]       NewtonSolver.cpp:255   INFO| Newton solver finished in 7 iterations and 7 linear solver iterations.\n"
     ]
    },
    {
     "name": "stdout",
     "output_type": "stream",
     "text": [
      "Time step 6, Number of iterations 7, Load [ 0.  0. -9.]\n"
     ]
    },
    {
     "name": "stderr",
     "output_type": "stream",
     "text": [
      "2024-09-17 11:54:47.003 ( 373.640s) [main            ]              petsc.cpp:698   INFO| PETSc Krylov solver starting to solve system.\n",
      "2024-09-17 11:54:47.427 ( 374.065s) [main            ]              petsc.cpp:698   INFO| PETSc Krylov solver starting to solve system.\n",
      "2024-09-17 11:54:47.713 ( 374.350s) [main            ]       NewtonSolver.cpp:36    INFO| Newton iteration 2: r (abs) = 1.38506 (tol = 1e-08) r (rel) = 0.0336622(tol = 1e-08)\n",
      "2024-09-17 11:54:47.854 ( 374.491s) [main            ]              petsc.cpp:698   INFO| PETSc Krylov solver starting to solve system.\n",
      "2024-09-17 11:54:48.153 ( 374.790s) [main            ]       NewtonSolver.cpp:36    INFO| Newton iteration 3: r (abs) = 3.03739 (tol = 1e-08) r (rel) = 0.07382(tol = 1e-08)\n",
      "2024-09-17 11:54:48.293 ( 374.931s) [main            ]              petsc.cpp:698   INFO| PETSc Krylov solver starting to solve system.\n",
      "2024-09-17 11:54:48.587 ( 375.224s) [main            ]       NewtonSolver.cpp:36    INFO| Newton iteration 4: r (abs) = 0.0412386 (tol = 1e-08) r (rel) = 0.00100225(tol = 1e-08)\n",
      "2024-09-17 11:54:48.726 ( 375.364s) [main            ]              petsc.cpp:698   INFO| PETSc Krylov solver starting to solve system.\n",
      "2024-09-17 11:54:49.011 ( 375.648s) [main            ]       NewtonSolver.cpp:36    INFO| Newton iteration 5: r (abs) = 0.00205057 (tol = 1e-08) r (rel) = 4.98364e-05(tol = 1e-08)\n",
      "2024-09-17 11:54:49.150 ( 375.787s) [main            ]              petsc.cpp:698   INFO| PETSc Krylov solver starting to solve system.\n"
     ]
    },
    {
     "name": "stdout",
     "output_type": "stream",
     "text": [
      "Time step 7, Number of iterations 6, Load [  0.    0.  -10.5]\n"
     ]
    },
    {
     "name": "stderr",
     "output_type": "stream",
     "text": [
      "2024-09-17 11:54:49.426 ( 376.063s) [main            ]       NewtonSolver.cpp:36    INFO| Newton iteration 6: r (abs) = 1.7886e-08 (tol = 1e-08) r (rel) = 4.34697e-10(tol = 1e-08)\n",
      "2024-09-17 11:54:49.426 ( 376.063s) [main            ]       NewtonSolver.cpp:255   INFO| Newton solver finished in 6 iterations and 6 linear solver iterations.\n",
      "2024-09-17 11:54:49.610 ( 376.247s) [main            ]              petsc.cpp:698   INFO| PETSc Krylov solver starting to solve system.\n",
      "2024-09-17 11:54:50.031 ( 376.669s) [main            ]              petsc.cpp:698   INFO| PETSc Krylov solver starting to solve system.\n",
      "2024-09-17 11:54:50.310 ( 376.947s) [main            ]       NewtonSolver.cpp:36    INFO| Newton iteration 2: r (abs) = 1.06336 (tol = 1e-08) r (rel) = 0.031085(tol = 1e-08)\n",
      "2024-09-17 11:54:50.447 ( 377.085s) [main            ]              petsc.cpp:698   INFO| PETSc Krylov solver starting to solve system.\n",
      "2024-09-17 11:54:50.709 ( 377.346s) [main            ]       NewtonSolver.cpp:36    INFO| Newton iteration 3: r (abs) = 2.0477 (tol = 1e-08) r (rel) = 0.0598598(tol = 1e-08)\n",
      "2024-09-17 11:54:50.849 ( 377.487s) [main            ]              petsc.cpp:698   INFO| PETSc Krylov solver starting to solve system.\n",
      "2024-09-17 11:54:51.126 ( 377.764s) [main            ]       NewtonSolver.cpp:36    INFO| Newton iteration 4: r (abs) = 0.00897719 (tol = 1e-08) r (rel) = 0.000262427(tol = 1e-08)\n",
      "2024-09-17 11:54:51.267 ( 377.904s) [main            ]              petsc.cpp:698   INFO| PETSc Krylov solver starting to solve system.\n",
      "2024-09-17 11:54:51.545 ( 378.183s) [main            ]       NewtonSolver.cpp:36    INFO| Newton iteration 5: r (abs) = 0.000167422 (tol = 1e-08) r (rel) = 4.89419e-06(tol = 1e-08)\n",
      "2024-09-17 11:54:51.687 ( 378.324s) [main            ]              petsc.cpp:698   INFO| PETSc Krylov solver starting to solve system.\n",
      "2024-09-17 11:54:51.971 ( 378.608s) [main            ]       NewtonSolver.cpp:36    INFO| Newton iteration 6: r (abs) = 3.26265e-11 (tol = 1e-08) r (rel) = 9.53759e-13(tol = 1e-08)\n",
      "2024-09-17 11:54:51.971 ( 378.608s) [main            ]       NewtonSolver.cpp:255   INFO| Newton solver finished in 6 iterations and 6 linear solver iterations.\n",
      "2024-09-17 11:54:52.156 ( 378.794s) [main            ]              petsc.cpp:698   INFO| PETSc Krylov solver starting to solve system.\n"
     ]
    },
    {
     "name": "stdout",
     "output_type": "stream",
     "text": [
      "Time step 8, Number of iterations 6, Load [  0.   0. -12.]\n"
     ]
    },
    {
     "name": "stderr",
     "output_type": "stream",
     "text": [
      "2024-09-17 11:54:52.611 ( 379.248s) [main            ]              petsc.cpp:698   INFO| PETSc Krylov solver starting to solve system.\n",
      "2024-09-17 11:54:53.018 ( 379.655s) [main            ]       NewtonSolver.cpp:36    INFO| Newton iteration 2: r (abs) = 0.898789 (tol = 1e-08) r (rel) = 0.0309666(tol = 1e-08)\n",
      "2024-09-17 11:54:53.177 ( 379.814s) [main            ]              petsc.cpp:698   INFO| PETSc Krylov solver starting to solve system.\n",
      "2024-09-17 11:54:53.513 ( 380.150s) [main            ]       NewtonSolver.cpp:36    INFO| Newton iteration 3: r (abs) = 1.38354 (tol = 1e-08) r (rel) = 0.0476679(tol = 1e-08)\n",
      "2024-09-17 11:54:53.655 ( 380.292s) [main            ]              petsc.cpp:698   INFO| PETSc Krylov solver starting to solve system.\n",
      "2024-09-17 11:54:53.937 ( 380.574s) [main            ]       NewtonSolver.cpp:36    INFO| Newton iteration 4: r (abs) = 0.00185096 (tol = 1e-08) r (rel) = 6.37724e-05(tol = 1e-08)\n",
      "2024-09-17 11:54:54.077 ( 380.714s) [main            ]              petsc.cpp:698   INFO| PETSc Krylov solver starting to solve system.\n",
      "2024-09-17 11:54:54.387 ( 381.024s) [main            ]       NewtonSolver.cpp:36    INFO| Newton iteration 5: r (abs) = 7.87183e-06 (tol = 1e-08) r (rel) = 2.71213e-07(tol = 1e-08)\n",
      "2024-09-17 11:54:54.527 ( 381.165s) [main            ]              petsc.cpp:698   INFO| PETSc Krylov solver starting to solve system.\n",
      "2024-09-17 11:54:54.819 ( 381.456s) [main            ]       NewtonSolver.cpp:36    INFO| Newton iteration 6: r (abs) = 2.72347e-13 (tol = 1e-08) r (rel) = 9.38335e-15(tol = 1e-08)\n",
      "2024-09-17 11:54:54.819 ( 381.456s) [main            ]       NewtonSolver.cpp:255   INFO| Newton solver finished in 6 iterations and 6 linear solver iterations.\n"
     ]
    },
    {
     "name": "stdout",
     "output_type": "stream",
     "text": [
      "Time step 9, Number of iterations 6, Load [  0.    0.  -13.5]\n"
     ]
    }
   ],
   "source": [
    "log.set_log_level(log.LogLevel.INFO)\n",
    "tval0 = -1.5\n",
    "for n in range(1, 10):\n",
    "    T.value[2] = n * tval0\n",
    "    num_its, converged = solver.solve(u)\n",
    "    assert (converged)\n",
    "    u.x.scatter_forward()\n",
    "    print(f\"Time step {n}, Number of iterations {num_its}, Load {T.value}\")\n",
    "    function_grid[\"u\"][:, :len(u)] = u.x.array.reshape(geometry.shape[0], len(u))\n",
    "    magnitude.interpolate(us)\n",
    "    warped.set_active_scalars(\"mag\")\n",
    "    warped_n = function_grid.warp_by_vector(factor=1)\n",
    "    warped.points[:, :] = warped_n.points\n",
    "    warped.point_data[\"mag\"][:] = magnitude.x.array\n",
    "    plotter.update_scalar_bar_range([0, 10])\n",
    "    plotter.write_frame()\n",
    "plotter.close()"
   ]
  },
  {
   "cell_type": "markdown",
   "id": "906ef59c-7e89-46e7-9222-9a6e925f4180",
   "metadata": {},
   "source": [
    "![Deformation](results/displacement.gif)\n"
   ]
  },
  {
   "cell_type": "markdown",
   "id": "f0047305",
   "metadata": {},
   "source": []
  }
 ],
 "metadata": {
  "jupytext": {
   "formats": "ipynb,py:light"
  },
  "kernelspec": {
   "display_name": "Python 3 (ipykernel)",
   "language": "python",
   "name": "python3"
  },
  "language_info": {
   "codemirror_mode": {
    "name": "ipython",
    "version": 3
   },
   "file_extension": ".py",
   "mimetype": "text/x-python",
   "name": "python",
   "nbconvert_exporter": "python",
   "pygments_lexer": "ipython3",
   "version": "3.12.1"
  }
 },
 "nbformat": 4,
 "nbformat_minor": 5
}
